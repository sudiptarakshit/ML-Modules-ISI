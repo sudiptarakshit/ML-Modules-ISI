{
 "cells": [
  {
   "cell_type": "markdown",
   "id": "2d7e8836",
   "metadata": {},
   "source": [
    "**Data Preprocessing**\n",
    "\n",
    "    1. Missing Value Replenishment\n",
    "    2. Merging data files\n",
    "    3. Appending the data files\n",
    "    4. Transformation or normalization\n",
    "    5. Random Sampling"
   ]
  },
  {
   "cell_type": "markdown",
   "id": "61b93064",
   "metadata": {},
   "source": [
    "**Missing Value Replenishment**"
   ]
  },
  {
   "cell_type": "code",
   "execution_count": 1,
   "id": "f66a64f3",
   "metadata": {},
   "outputs": [
    {
     "name": "stdout",
     "output_type": "stream",
     "text": [
      "<class 'pandas.core.frame.DataFrame'>\n",
      "RangeIndex: 20 entries, 0 to 19\n",
      "Data columns (total 10 columns):\n",
      " #   Column            Non-Null Count  Dtype  \n",
      "---  ------            --------------  -----  \n",
      " 0   SL No             20 non-null     int64  \n",
      " 1   Reviewer_Skill    20 non-null     int64  \n",
      " 2   Review_Type       20 non-null     int64  \n",
      " 3   Domain_Knowledge  20 non-null     int64  \n",
      " 4   Review_Time       19 non-null     float64\n",
      " 5   Test_Coverage     19 non-null     float64\n",
      " 6   Review_Coverage   19 non-null     float64\n",
      " 7   Reuse             20 non-null     int64  \n",
      " 8   Review_Rate       20 non-null     int64  \n",
      " 9   Sprint_Prod       20 non-null     float64\n",
      "dtypes: float64(4), int64(6)\n",
      "memory usage: 1.7 KB\n"
     ]
    }
   ],
   "source": [
    "#Read the data\n",
    "import pandas as pd\n",
    "data = pd.read_excel('/Users/sudiptarakshit/Desktop/Python/Prof Boby John Module/Dataset/Preprocessing_Data_I.xlsx')\n",
    "#Explore the data\n",
    "data.head()\n",
    "#Check the structure of the data\n",
    "data.info()"
   ]
  },
  {
   "cell_type": "code",
   "execution_count": 2,
   "id": "594d9bce",
   "metadata": {},
   "outputs": [
    {
     "data": {
      "text/plain": [
       "SL No               20\n",
       "Reviewer_Skill      20\n",
       "Review_Type         20\n",
       "Domain_Knowledge    20\n",
       "Review_Time         19\n",
       "Test_Coverage       19\n",
       "Review_Coverage     19\n",
       "Reuse               20\n",
       "Review_Rate         20\n",
       "Sprint_Prod         20\n",
       "dtype: int64"
      ]
     },
     "execution_count": 2,
     "metadata": {},
     "output_type": "execute_result"
    }
   ],
   "source": [
    "#count the data\n",
    "data.count()"
   ]
  },
  {
   "cell_type": "markdown",
   "id": "80756ef9",
   "metadata": {},
   "source": [
    "We conclude that missing value is present in the data\n",
    "\n",
    "Columns having missing value - Review_Time, Test_Coverage, Review_Coverage"
   ]
  },
  {
   "cell_type": "code",
   "execution_count": 3,
   "id": "76feab75",
   "metadata": {},
   "outputs": [],
   "source": [
    "#Delete records with missing value\n",
    "newdata = data.dropna()"
   ]
  },
  {
   "cell_type": "code",
   "execution_count": 4,
   "id": "f34a584a",
   "metadata": {},
   "outputs": [
    {
     "data": {
      "text/plain": [
       "SL No               18\n",
       "Reviewer_Skill      18\n",
       "Review_Type         18\n",
       "Domain_Knowledge    18\n",
       "Review_Time         18\n",
       "Test_Coverage       18\n",
       "Review_Coverage     18\n",
       "Reuse               18\n",
       "Review_Rate         18\n",
       "Sprint_Prod         18\n",
       "dtype: int64"
      ]
     },
     "execution_count": 4,
     "metadata": {},
     "output_type": "execute_result"
    }
   ],
   "source": [
    "#Check the structure of the newdata\n",
    "newdata.count()"
   ]
  },
  {
   "cell_type": "code",
   "execution_count": 6,
   "id": "e9b6ca4d",
   "metadata": {},
   "outputs": [],
   "source": [
    "#We export the cleaned up data\n",
    "newdata.to_excel('newdata.xlsx')"
   ]
  },
  {
   "cell_type": "markdown",
   "id": "984ad679",
   "metadata": {},
   "source": [
    "Instead of deleting the missing values, we can replenish them: imputation"
   ]
  },
  {
   "cell_type": "markdown",
   "id": "cb144283",
   "metadata": {},
   "source": [
    "Replacing missing values in Review_Time with Mean_Review_Time"
   ]
  },
  {
   "cell_type": "code",
   "execution_count": 7,
   "id": "ecc38d3c",
   "metadata": {},
   "outputs": [],
   "source": [
    "# Compute the mean\n",
    "rev_time = data.Review_Time\n",
    "rev_time_mean = round(rev_time.mean(),3)"
   ]
  },
  {
   "cell_type": "code",
   "execution_count": 8,
   "id": "7171a927",
   "metadata": {},
   "outputs": [],
   "source": [
    "#Replace missing value with mean\n",
    "rev_time.fillna(rev_time_mean,inplace=True)"
   ]
  },
  {
   "cell_type": "markdown",
   "id": "97a8f521",
   "metadata": {},
   "source": [
    "Replacing missing values in Test_Coverage with Median_Test_Coverage"
   ]
  },
  {
   "cell_type": "code",
   "execution_count": 9,
   "id": "3d5d2b01",
   "metadata": {},
   "outputs": [],
   "source": [
    "# Compute the median\n",
    "Test_Coverage = data.Test_Coverage\n",
    "Test_Coverage_median = round(Test_Coverage.median(),3)"
   ]
  },
  {
   "cell_type": "code",
   "execution_count": 10,
   "id": "1deee18d",
   "metadata": {},
   "outputs": [],
   "source": [
    "# Replacing the missing value with median\n",
    "Test_Coverage.fillna(Test_Coverage_median,inplace=True)\n"
   ]
  },
  {
   "cell_type": "markdown",
   "id": "19e2c7e4",
   "metadata": {},
   "source": [
    "Replacing the missing value in Review_Coverage with 95"
   ]
  },
  {
   "cell_type": "code",
   "execution_count": 11,
   "id": "b68bebfb",
   "metadata": {},
   "outputs": [],
   "source": [
    "Review_Coverage = data.Review_Coverage\n",
    "#Replacing missing value with 95\n",
    "Review_Coverage.fillna(95,inplace=True)"
   ]
  },
  {
   "cell_type": "code",
   "execution_count": 12,
   "id": "939b43a9",
   "metadata": {},
   "outputs": [],
   "source": [
    "#We export the cleaned up data\n",
    "data.to_excel('data.xlsx')"
   ]
  },
  {
   "cell_type": "markdown",
   "id": "9393855e",
   "metadata": {},
   "source": [
    "**Merging data files**"
   ]
  },
  {
   "cell_type": "code",
   "execution_count": 54,
   "id": "409790eb",
   "metadata": {},
   "outputs": [],
   "source": [
    "#Import the package\n",
    "import pandas as pd"
   ]
  },
  {
   "cell_type": "code",
   "execution_count": 17,
   "id": "bf7f4411",
   "metadata": {},
   "outputs": [
    {
     "data": {
      "text/html": [
       "<div>\n",
       "<style scoped>\n",
       "    .dataframe tbody tr th:only-of-type {\n",
       "        vertical-align: middle;\n",
       "    }\n",
       "\n",
       "    .dataframe tbody tr th {\n",
       "        vertical-align: top;\n",
       "    }\n",
       "\n",
       "    .dataframe thead th {\n",
       "        text-align: right;\n",
       "    }\n",
       "</style>\n",
       "<table border=\"1\" class=\"dataframe\">\n",
       "  <thead>\n",
       "    <tr style=\"text-align: right;\">\n",
       "      <th></th>\n",
       "      <th>SL_No</th>\n",
       "      <th>District</th>\n",
       "      <th>House_Type</th>\n",
       "      <th>Income</th>\n",
       "      <th>Previous_Customer</th>\n",
       "    </tr>\n",
       "  </thead>\n",
       "  <tbody>\n",
       "    <tr>\n",
       "      <th>0</th>\n",
       "      <td>1</td>\n",
       "      <td>Suburban</td>\n",
       "      <td>Detached</td>\n",
       "      <td>High</td>\n",
       "      <td>No</td>\n",
       "    </tr>\n",
       "    <tr>\n",
       "      <th>1</th>\n",
       "      <td>2</td>\n",
       "      <td>Suburban</td>\n",
       "      <td>Detached</td>\n",
       "      <td>High</td>\n",
       "      <td>Yes</td>\n",
       "    </tr>\n",
       "    <tr>\n",
       "      <th>2</th>\n",
       "      <td>3</td>\n",
       "      <td>Rural</td>\n",
       "      <td>Detached</td>\n",
       "      <td>High</td>\n",
       "      <td>No</td>\n",
       "    </tr>\n",
       "    <tr>\n",
       "      <th>3</th>\n",
       "      <td>4</td>\n",
       "      <td>Urban</td>\n",
       "      <td>Semi-detached</td>\n",
       "      <td>High</td>\n",
       "      <td>No</td>\n",
       "    </tr>\n",
       "    <tr>\n",
       "      <th>4</th>\n",
       "      <td>5</td>\n",
       "      <td>Urban</td>\n",
       "      <td>Semi-detached</td>\n",
       "      <td>Low</td>\n",
       "      <td>No</td>\n",
       "    </tr>\n",
       "  </tbody>\n",
       "</table>\n",
       "</div>"
      ],
      "text/plain": [
       "   SL_No  District     House_Type Income Previous_Customer\n",
       "0      1  Suburban       Detached   High                No\n",
       "1      2  Suburban       Detached   High               Yes\n",
       "2      3     Rural       Detached   High                No\n",
       "3      4     Urban  Semi-detached   High                No\n",
       "4      5     Urban  Semi-detached    Low                No"
      ]
     },
     "execution_count": 17,
     "metadata": {},
     "output_type": "execute_result"
    }
   ],
   "source": [
    "#Import the dataset - features\n",
    "features = pd.read_csv('Mail_Respond_Features.csv')\n",
    "features.head()"
   ]
  },
  {
   "cell_type": "code",
   "execution_count": 14,
   "id": "34c07a16",
   "metadata": {},
   "outputs": [],
   "source": [
    "#Import the dataset - responses\n",
    "response = pd.read_csv('Mail_Respond_Response.txt',sep='\\t')\n",
    "#For importing text file also, we can use read_csv"
   ]
  },
  {
   "cell_type": "code",
   "execution_count": 16,
   "id": "b7e352c1",
   "metadata": {},
   "outputs": [
    {
     "data": {
      "text/html": [
       "<div>\n",
       "<style scoped>\n",
       "    .dataframe tbody tr th:only-of-type {\n",
       "        vertical-align: middle;\n",
       "    }\n",
       "\n",
       "    .dataframe tbody tr th {\n",
       "        vertical-align: top;\n",
       "    }\n",
       "\n",
       "    .dataframe thead th {\n",
       "        text-align: right;\n",
       "    }\n",
       "</style>\n",
       "<table border=\"1\" class=\"dataframe\">\n",
       "  <thead>\n",
       "    <tr style=\"text-align: right;\">\n",
       "      <th></th>\n",
       "      <th>SL_No</th>\n",
       "      <th>Outcome</th>\n",
       "    </tr>\n",
       "  </thead>\n",
       "  <tbody>\n",
       "    <tr>\n",
       "      <th>0</th>\n",
       "      <td>1</td>\n",
       "      <td>No</td>\n",
       "    </tr>\n",
       "    <tr>\n",
       "      <th>1</th>\n",
       "      <td>2</td>\n",
       "      <td>No</td>\n",
       "    </tr>\n",
       "    <tr>\n",
       "      <th>2</th>\n",
       "      <td>3</td>\n",
       "      <td>Yes</td>\n",
       "    </tr>\n",
       "    <tr>\n",
       "      <th>3</th>\n",
       "      <td>4</td>\n",
       "      <td>Yes</td>\n",
       "    </tr>\n",
       "    <tr>\n",
       "      <th>4</th>\n",
       "      <td>5</td>\n",
       "      <td>Yes</td>\n",
       "    </tr>\n",
       "  </tbody>\n",
       "</table>\n",
       "</div>"
      ],
      "text/plain": [
       "   SL_No Outcome\n",
       "0      1      No\n",
       "1      2      No\n",
       "2      3     Yes\n",
       "3      4     Yes\n",
       "4      5     Yes"
      ]
     },
     "execution_count": 16,
     "metadata": {},
     "output_type": "execute_result"
    }
   ],
   "source": [
    "response.head()"
   ]
  },
  {
   "cell_type": "code",
   "execution_count": 18,
   "id": "382b5308",
   "metadata": {},
   "outputs": [],
   "source": [
    "#Merging the datasets\n",
    "data = pd.merge(features,response ,on = 'SL_No')"
   ]
  },
  {
   "cell_type": "code",
   "execution_count": 19,
   "id": "8cd41f99",
   "metadata": {},
   "outputs": [
    {
     "data": {
      "text/html": [
       "<div>\n",
       "<style scoped>\n",
       "    .dataframe tbody tr th:only-of-type {\n",
       "        vertical-align: middle;\n",
       "    }\n",
       "\n",
       "    .dataframe tbody tr th {\n",
       "        vertical-align: top;\n",
       "    }\n",
       "\n",
       "    .dataframe thead th {\n",
       "        text-align: right;\n",
       "    }\n",
       "</style>\n",
       "<table border=\"1\" class=\"dataframe\">\n",
       "  <thead>\n",
       "    <tr style=\"text-align: right;\">\n",
       "      <th></th>\n",
       "      <th>SL_No</th>\n",
       "      <th>District</th>\n",
       "      <th>House_Type</th>\n",
       "      <th>Income</th>\n",
       "      <th>Previous_Customer</th>\n",
       "      <th>Outcome</th>\n",
       "    </tr>\n",
       "  </thead>\n",
       "  <tbody>\n",
       "    <tr>\n",
       "      <th>0</th>\n",
       "      <td>1</td>\n",
       "      <td>Suburban</td>\n",
       "      <td>Detached</td>\n",
       "      <td>High</td>\n",
       "      <td>No</td>\n",
       "      <td>No</td>\n",
       "    </tr>\n",
       "    <tr>\n",
       "      <th>1</th>\n",
       "      <td>2</td>\n",
       "      <td>Suburban</td>\n",
       "      <td>Detached</td>\n",
       "      <td>High</td>\n",
       "      <td>Yes</td>\n",
       "      <td>No</td>\n",
       "    </tr>\n",
       "    <tr>\n",
       "      <th>2</th>\n",
       "      <td>3</td>\n",
       "      <td>Rural</td>\n",
       "      <td>Detached</td>\n",
       "      <td>High</td>\n",
       "      <td>No</td>\n",
       "      <td>Yes</td>\n",
       "    </tr>\n",
       "    <tr>\n",
       "      <th>3</th>\n",
       "      <td>4</td>\n",
       "      <td>Urban</td>\n",
       "      <td>Semi-detached</td>\n",
       "      <td>High</td>\n",
       "      <td>No</td>\n",
       "      <td>Yes</td>\n",
       "    </tr>\n",
       "    <tr>\n",
       "      <th>4</th>\n",
       "      <td>5</td>\n",
       "      <td>Urban</td>\n",
       "      <td>Semi-detached</td>\n",
       "      <td>Low</td>\n",
       "      <td>No</td>\n",
       "      <td>Yes</td>\n",
       "    </tr>\n",
       "  </tbody>\n",
       "</table>\n",
       "</div>"
      ],
      "text/plain": [
       "   SL_No  District     House_Type Income Previous_Customer Outcome\n",
       "0      1  Suburban       Detached   High                No      No\n",
       "1      2  Suburban       Detached   High               Yes      No\n",
       "2      3     Rural       Detached   High                No     Yes\n",
       "3      4     Urban  Semi-detached   High                No     Yes\n",
       "4      5     Urban  Semi-detached    Low                No     Yes"
      ]
     },
     "execution_count": 19,
     "metadata": {},
     "output_type": "execute_result"
    }
   ],
   "source": [
    "data.head()"
   ]
  },
  {
   "cell_type": "code",
   "execution_count": 21,
   "id": "9372bba5",
   "metadata": {},
   "outputs": [],
   "source": [
    "#Export merged file to system\n",
    "data.to_excel('mergedata.xlsx')"
   ]
  },
  {
   "cell_type": "markdown",
   "id": "37a24477",
   "metadata": {},
   "source": [
    "**Appending the data files**"
   ]
  },
  {
   "cell_type": "code",
   "execution_count": 62,
   "id": "0295d94d",
   "metadata": {},
   "outputs": [],
   "source": [
    "#Import the package\n",
    "import pandas as pd"
   ]
  },
  {
   "cell_type": "code",
   "execution_count": 22,
   "id": "8edcebed",
   "metadata": {},
   "outputs": [],
   "source": [
    "#Import the dataset 1\n",
    "preprop_data1 = pd.read_excel('Preprocessing_Data_I.xlsx')"
   ]
  },
  {
   "cell_type": "code",
   "execution_count": 23,
   "id": "10c87ba9",
   "metadata": {},
   "outputs": [],
   "source": [
    "#Import the dataset 2\n",
    "preprop_data2 = pd.read_csv('Preprocessing_Data_II.csv')"
   ]
  },
  {
   "cell_type": "code",
   "execution_count": 24,
   "id": "721a7d22",
   "metadata": {},
   "outputs": [
    {
     "data": {
      "text/html": [
       "<div>\n",
       "<style scoped>\n",
       "    .dataframe tbody tr th:only-of-type {\n",
       "        vertical-align: middle;\n",
       "    }\n",
       "\n",
       "    .dataframe tbody tr th {\n",
       "        vertical-align: top;\n",
       "    }\n",
       "\n",
       "    .dataframe thead th {\n",
       "        text-align: right;\n",
       "    }\n",
       "</style>\n",
       "<table border=\"1\" class=\"dataframe\">\n",
       "  <thead>\n",
       "    <tr style=\"text-align: right;\">\n",
       "      <th></th>\n",
       "      <th>SL No</th>\n",
       "      <th>Reviewer_Skill</th>\n",
       "      <th>Review_Type</th>\n",
       "      <th>Domain_Knowledge</th>\n",
       "      <th>Review_Time</th>\n",
       "      <th>Test_Coverage</th>\n",
       "      <th>Review_Coverage</th>\n",
       "      <th>Reuse</th>\n",
       "      <th>Review_Rate</th>\n",
       "      <th>Sprint_Prod</th>\n",
       "    </tr>\n",
       "  </thead>\n",
       "  <tbody>\n",
       "    <tr>\n",
       "      <th>0</th>\n",
       "      <td>1</td>\n",
       "      <td>4</td>\n",
       "      <td>1</td>\n",
       "      <td>4</td>\n",
       "      <td>30.0</td>\n",
       "      <td>100.0</td>\n",
       "      <td>70.0</td>\n",
       "      <td>30</td>\n",
       "      <td>3</td>\n",
       "      <td>0.46</td>\n",
       "    </tr>\n",
       "    <tr>\n",
       "      <th>1</th>\n",
       "      <td>2</td>\n",
       "      <td>5</td>\n",
       "      <td>2</td>\n",
       "      <td>5</td>\n",
       "      <td>20.0</td>\n",
       "      <td>70.0</td>\n",
       "      <td>100.0</td>\n",
       "      <td>15</td>\n",
       "      <td>1</td>\n",
       "      <td>0.08</td>\n",
       "    </tr>\n",
       "    <tr>\n",
       "      <th>2</th>\n",
       "      <td>3</td>\n",
       "      <td>4</td>\n",
       "      <td>1</td>\n",
       "      <td>4</td>\n",
       "      <td>20.0</td>\n",
       "      <td>70.0</td>\n",
       "      <td>100.0</td>\n",
       "      <td>15</td>\n",
       "      <td>2</td>\n",
       "      <td>0.11</td>\n",
       "    </tr>\n",
       "    <tr>\n",
       "      <th>3</th>\n",
       "      <td>4</td>\n",
       "      <td>4</td>\n",
       "      <td>1</td>\n",
       "      <td>4</td>\n",
       "      <td>30.0</td>\n",
       "      <td>70.0</td>\n",
       "      <td>70.0</td>\n",
       "      <td>50</td>\n",
       "      <td>4</td>\n",
       "      <td>0.73</td>\n",
       "    </tr>\n",
       "    <tr>\n",
       "      <th>4</th>\n",
       "      <td>5</td>\n",
       "      <td>5</td>\n",
       "      <td>2</td>\n",
       "      <td>5</td>\n",
       "      <td>NaN</td>\n",
       "      <td>100.0</td>\n",
       "      <td>NaN</td>\n",
       "      <td>50</td>\n",
       "      <td>4</td>\n",
       "      <td>0.50</td>\n",
       "    </tr>\n",
       "  </tbody>\n",
       "</table>\n",
       "</div>"
      ],
      "text/plain": [
       "   SL No  Reviewer_Skill  Review_Type  Domain_Knowledge  Review_Time  \\\n",
       "0      1               4            1                 4         30.0   \n",
       "1      2               5            2                 5         20.0   \n",
       "2      3               4            1                 4         20.0   \n",
       "3      4               4            1                 4         30.0   \n",
       "4      5               5            2                 5          NaN   \n",
       "\n",
       "   Test_Coverage  Review_Coverage  Reuse   Review_Rate  Sprint_Prod  \n",
       "0          100.0             70.0      30            3         0.46  \n",
       "1           70.0            100.0      15            1         0.08  \n",
       "2           70.0            100.0      15            2         0.11  \n",
       "3           70.0             70.0      50            4         0.73  \n",
       "4          100.0              NaN      50            4         0.50  "
      ]
     },
     "execution_count": 24,
     "metadata": {},
     "output_type": "execute_result"
    }
   ],
   "source": [
    "#we check the dataset1\n",
    "preprop_data1.head()"
   ]
  },
  {
   "cell_type": "markdown",
   "id": "3c9e494d",
   "metadata": {},
   "source": [
    "*some missing values present*"
   ]
  },
  {
   "cell_type": "code",
   "execution_count": 25,
   "id": "21e3822c",
   "metadata": {},
   "outputs": [
    {
     "data": {
      "text/plain": [
       "SL No               20\n",
       "Reviewer_Skill      20\n",
       "Review_Type         20\n",
       "Domain_Knowledge    20\n",
       "Review_Time         19\n",
       "Test_Coverage       19\n",
       "Review_Coverage     19\n",
       "Reuse               20\n",
       "Review_Rate         20\n",
       "Sprint_Prod         20\n",
       "dtype: int64"
      ]
     },
     "execution_count": 25,
     "metadata": {},
     "output_type": "execute_result"
    }
   ],
   "source": [
    "#Data count\n",
    "preprop_data1.count()"
   ]
  },
  {
   "cell_type": "code",
   "execution_count": 26,
   "id": "381559c2",
   "metadata": {},
   "outputs": [
    {
     "data": {
      "text/html": [
       "<div>\n",
       "<style scoped>\n",
       "    .dataframe tbody tr th:only-of-type {\n",
       "        vertical-align: middle;\n",
       "    }\n",
       "\n",
       "    .dataframe tbody tr th {\n",
       "        vertical-align: top;\n",
       "    }\n",
       "\n",
       "    .dataframe thead th {\n",
       "        text-align: right;\n",
       "    }\n",
       "</style>\n",
       "<table border=\"1\" class=\"dataframe\">\n",
       "  <thead>\n",
       "    <tr style=\"text-align: right;\">\n",
       "      <th></th>\n",
       "      <th>SL No</th>\n",
       "      <th>Reviewer_Skill</th>\n",
       "      <th>Review_Type</th>\n",
       "      <th>Domain_Knowledge</th>\n",
       "      <th>Review_Time</th>\n",
       "      <th>Test_Coverage</th>\n",
       "      <th>Review_Coverage</th>\n",
       "      <th>Reuse</th>\n",
       "      <th>Review_Rate</th>\n",
       "      <th>Sprint_Prod</th>\n",
       "    </tr>\n",
       "  </thead>\n",
       "  <tbody>\n",
       "    <tr>\n",
       "      <th>0</th>\n",
       "      <td>21</td>\n",
       "      <td>5</td>\n",
       "      <td>2</td>\n",
       "      <td>5</td>\n",
       "      <td>20.0</td>\n",
       "      <td>50</td>\n",
       "      <td>50.0</td>\n",
       "      <td>50.0</td>\n",
       "      <td>3</td>\n",
       "      <td>0.54</td>\n",
       "    </tr>\n",
       "    <tr>\n",
       "      <th>1</th>\n",
       "      <td>22</td>\n",
       "      <td>3</td>\n",
       "      <td>1</td>\n",
       "      <td>3</td>\n",
       "      <td>20.0</td>\n",
       "      <td>100</td>\n",
       "      <td>70.0</td>\n",
       "      <td>10.0</td>\n",
       "      <td>2</td>\n",
       "      <td>0.18</td>\n",
       "    </tr>\n",
       "    <tr>\n",
       "      <th>2</th>\n",
       "      <td>23</td>\n",
       "      <td>4</td>\n",
       "      <td>1</td>\n",
       "      <td>4</td>\n",
       "      <td>20.0</td>\n",
       "      <td>100</td>\n",
       "      <td>NaN</td>\n",
       "      <td>10.0</td>\n",
       "      <td>3</td>\n",
       "      <td>0.37</td>\n",
       "    </tr>\n",
       "    <tr>\n",
       "      <th>3</th>\n",
       "      <td>24</td>\n",
       "      <td>4</td>\n",
       "      <td>1</td>\n",
       "      <td>4</td>\n",
       "      <td>20.0</td>\n",
       "      <td>100</td>\n",
       "      <td>70.0</td>\n",
       "      <td>20.0</td>\n",
       "      <td>3</td>\n",
       "      <td>0.47</td>\n",
       "    </tr>\n",
       "    <tr>\n",
       "      <th>4</th>\n",
       "      <td>25</td>\n",
       "      <td>3</td>\n",
       "      <td>1</td>\n",
       "      <td>3</td>\n",
       "      <td>NaN</td>\n",
       "      <td>100</td>\n",
       "      <td>70.0</td>\n",
       "      <td>25.0</td>\n",
       "      <td>1</td>\n",
       "      <td>0.37</td>\n",
       "    </tr>\n",
       "  </tbody>\n",
       "</table>\n",
       "</div>"
      ],
      "text/plain": [
       "   SL No  Reviewer_Skill  Review_Type  Domain_Knowledge  Review_Time  \\\n",
       "0     21               5            2                 5         20.0   \n",
       "1     22               3            1                 3         20.0   \n",
       "2     23               4            1                 4         20.0   \n",
       "3     24               4            1                 4         20.0   \n",
       "4     25               3            1                 3          NaN   \n",
       "\n",
       "   Test_Coverage  Review_Coverage  Reuse   Review_Rate  Sprint_Prod  \n",
       "0             50             50.0    50.0            3         0.54  \n",
       "1            100             70.0    10.0            2         0.18  \n",
       "2            100              NaN    10.0            3         0.37  \n",
       "3            100             70.0    20.0            3         0.47  \n",
       "4            100             70.0    25.0            1         0.37  "
      ]
     },
     "execution_count": 26,
     "metadata": {},
     "output_type": "execute_result"
    }
   ],
   "source": [
    "#we check the dataset2\n",
    "preprop_data2.head()"
   ]
  },
  {
   "cell_type": "markdown",
   "id": "956c1d8c",
   "metadata": {},
   "source": [
    "*some missing values present*"
   ]
  },
  {
   "cell_type": "code",
   "execution_count": 27,
   "id": "7f10bd86",
   "metadata": {},
   "outputs": [
    {
     "data": {
      "text/plain": [
       "SL No               14\n",
       "Reviewer_Skill      14\n",
       "Review_Type         14\n",
       "Domain_Knowledge    14\n",
       "Review_Time         13\n",
       "Test_Coverage       14\n",
       "Review_Coverage     13\n",
       "Reuse               13\n",
       "Review_Rate         14\n",
       "Sprint_Prod         14\n",
       "dtype: int64"
      ]
     },
     "execution_count": 27,
     "metadata": {},
     "output_type": "execute_result"
    }
   ],
   "source": [
    "#Data count\n",
    "preprop_data2.count()"
   ]
  },
  {
   "cell_type": "code",
   "execution_count": 28,
   "id": "7f6e9c09",
   "metadata": {},
   "outputs": [
    {
     "name": "stderr",
     "output_type": "stream",
     "text": [
      "/var/folders/n7/h1_p91d52lbbxr83fp28f6pm0000gn/T/ipykernel_1480/1969568602.py:3: FutureWarning: The frame.append method is deprecated and will be removed from pandas in a future version. Use pandas.concat instead.\n",
      "  data = preprop_data1.append(preprop_data2)\n"
     ]
    }
   ],
   "source": [
    "# we append the two datasets\n",
    "#For appending, column names should be same\n",
    "data = preprop_data1.append(preprop_data2)"
   ]
  },
  {
   "cell_type": "code",
   "execution_count": 30,
   "id": "35237d5a",
   "metadata": {},
   "outputs": [
    {
     "data": {
      "text/plain": [
       "SL No               34\n",
       "Reviewer_Skill      34\n",
       "Review_Type         34\n",
       "Domain_Knowledge    34\n",
       "Review_Time         32\n",
       "Test_Coverage       33\n",
       "Review_Coverage     32\n",
       "Reuse               33\n",
       "Review_Rate         34\n",
       "Sprint_Prod         34\n",
       "dtype: int64"
      ]
     },
     "execution_count": 30,
     "metadata": {},
     "output_type": "execute_result"
    }
   ],
   "source": [
    "#data count\n",
    "data.count()"
   ]
  },
  {
   "cell_type": "code",
   "execution_count": 31,
   "id": "831ae051",
   "metadata": {},
   "outputs": [],
   "source": [
    "#Exporting the appended dataset \n",
    "data.to_excel('appendnewdata.xlsx')"
   ]
  },
  {
   "cell_type": "markdown",
   "id": "efe289ba",
   "metadata": {},
   "source": [
    "**Transformation or normalization**"
   ]
  },
  {
   "cell_type": "code",
   "execution_count": 32,
   "id": "01525074",
   "metadata": {},
   "outputs": [],
   "source": [
    "#Import the packages\n",
    "import pandas as pd\n",
    "from sklearn.preprocessing import StandardScaler as z\n",
    "from sklearn.preprocessing import MinMaxScaler as MinMax"
   ]
  },
  {
   "cell_type": "markdown",
   "id": "8cf8b31d",
   "metadata": {},
   "source": [
    "### Z Transformation"
   ]
  },
  {
   "cell_type": "code",
   "execution_count": 33,
   "id": "ba3db4d7",
   "metadata": {},
   "outputs": [],
   "source": [
    "#Import the dataset\n",
    "data = pd.read_excel('TAT.xlsx')"
   ]
  },
  {
   "cell_type": "code",
   "execution_count": 34,
   "id": "6e3fbfd8",
   "metadata": {},
   "outputs": [
    {
     "data": {
      "text/html": [
       "<div>\n",
       "<style scoped>\n",
       "    .dataframe tbody tr th:only-of-type {\n",
       "        vertical-align: middle;\n",
       "    }\n",
       "\n",
       "    .dataframe tbody tr th {\n",
       "        vertical-align: top;\n",
       "    }\n",
       "\n",
       "    .dataframe thead th {\n",
       "        text-align: right;\n",
       "    }\n",
       "</style>\n",
       "<table border=\"1\" class=\"dataframe\">\n",
       "  <thead>\n",
       "    <tr style=\"text-align: right;\">\n",
       "      <th></th>\n",
       "      <th>Volume</th>\n",
       "      <th>KDEB_Usage</th>\n",
       "      <th>Skill</th>\n",
       "      <th>Effort</th>\n",
       "      <th>TAT</th>\n",
       "    </tr>\n",
       "  </thead>\n",
       "  <tbody>\n",
       "    <tr>\n",
       "      <th>0</th>\n",
       "      <td>38</td>\n",
       "      <td>13</td>\n",
       "      <td>3.6</td>\n",
       "      <td>382</td>\n",
       "      <td>791</td>\n",
       "    </tr>\n",
       "    <tr>\n",
       "      <th>1</th>\n",
       "      <td>64</td>\n",
       "      <td>10</td>\n",
       "      <td>3.6</td>\n",
       "      <td>402</td>\n",
       "      <td>815</td>\n",
       "    </tr>\n",
       "    <tr>\n",
       "      <th>2</th>\n",
       "      <td>45</td>\n",
       "      <td>12</td>\n",
       "      <td>3.6</td>\n",
       "      <td>369</td>\n",
       "      <td>655</td>\n",
       "    </tr>\n",
       "    <tr>\n",
       "      <th>3</th>\n",
       "      <td>52</td>\n",
       "      <td>10</td>\n",
       "      <td>3.6</td>\n",
       "      <td>529</td>\n",
       "      <td>480</td>\n",
       "    </tr>\n",
       "    <tr>\n",
       "      <th>4</th>\n",
       "      <td>28</td>\n",
       "      <td>9</td>\n",
       "      <td>3.6</td>\n",
       "      <td>529</td>\n",
       "      <td>453</td>\n",
       "    </tr>\n",
       "  </tbody>\n",
       "</table>\n",
       "</div>"
      ],
      "text/plain": [
       "   Volume  KDEB_Usage   Skill   Effort  TAT\n",
       "0      38          13      3.6     382  791\n",
       "1      64          10      3.6     402  815\n",
       "2      45          12      3.6     369  655\n",
       "3      52          10      3.6     529  480\n",
       "4      28           9      3.6     529  453"
      ]
     },
     "execution_count": 34,
     "metadata": {},
     "output_type": "execute_result"
    }
   ],
   "source": [
    "# Explore the dataset\n",
    "data.head()"
   ]
  },
  {
   "cell_type": "code",
   "execution_count": 35,
   "id": "a61ed47f",
   "metadata": {},
   "outputs": [
    {
     "data": {
      "text/html": [
       "<div>\n",
       "<style scoped>\n",
       "    .dataframe tbody tr th:only-of-type {\n",
       "        vertical-align: middle;\n",
       "    }\n",
       "\n",
       "    .dataframe tbody tr th {\n",
       "        vertical-align: top;\n",
       "    }\n",
       "\n",
       "    .dataframe thead th {\n",
       "        text-align: right;\n",
       "    }\n",
       "</style>\n",
       "<table border=\"1\" class=\"dataframe\">\n",
       "  <thead>\n",
       "    <tr style=\"text-align: right;\">\n",
       "      <th></th>\n",
       "      <th>Volume</th>\n",
       "      <th>KDEB_Usage</th>\n",
       "      <th>Skill</th>\n",
       "      <th>Effort</th>\n",
       "      <th>TAT</th>\n",
       "    </tr>\n",
       "  </thead>\n",
       "  <tbody>\n",
       "    <tr>\n",
       "      <th>count</th>\n",
       "      <td>24.00</td>\n",
       "      <td>24.00</td>\n",
       "      <td>24.00</td>\n",
       "      <td>24.00</td>\n",
       "      <td>24.00</td>\n",
       "    </tr>\n",
       "    <tr>\n",
       "      <th>mean</th>\n",
       "      <td>31.62</td>\n",
       "      <td>14.08</td>\n",
       "      <td>3.74</td>\n",
       "      <td>261.25</td>\n",
       "      <td>638.92</td>\n",
       "    </tr>\n",
       "    <tr>\n",
       "      <th>std</th>\n",
       "      <td>11.17</td>\n",
       "      <td>4.16</td>\n",
       "      <td>0.24</td>\n",
       "      <td>115.73</td>\n",
       "      <td>150.07</td>\n",
       "    </tr>\n",
       "    <tr>\n",
       "      <th>min</th>\n",
       "      <td>18.00</td>\n",
       "      <td>9.00</td>\n",
       "      <td>3.25</td>\n",
       "      <td>125.00</td>\n",
       "      <td>399.00</td>\n",
       "    </tr>\n",
       "    <tr>\n",
       "      <th>25%</th>\n",
       "      <td>23.00</td>\n",
       "      <td>10.00</td>\n",
       "      <td>3.60</td>\n",
       "      <td>181.75</td>\n",
       "      <td>504.00</td>\n",
       "    </tr>\n",
       "    <tr>\n",
       "      <th>50%</th>\n",
       "      <td>29.00</td>\n",
       "      <td>14.00</td>\n",
       "      <td>3.70</td>\n",
       "      <td>218.00</td>\n",
       "      <td>653.50</td>\n",
       "    </tr>\n",
       "    <tr>\n",
       "      <th>75%</th>\n",
       "      <td>36.50</td>\n",
       "      <td>17.75</td>\n",
       "      <td>4.00</td>\n",
       "      <td>351.75</td>\n",
       "      <td>774.50</td>\n",
       "    </tr>\n",
       "    <tr>\n",
       "      <th>max</th>\n",
       "      <td>64.00</td>\n",
       "      <td>20.00</td>\n",
       "      <td>4.00</td>\n",
       "      <td>529.00</td>\n",
       "      <td>883.00</td>\n",
       "    </tr>\n",
       "  </tbody>\n",
       "</table>\n",
       "</div>"
      ],
      "text/plain": [
       "       Volume  KDEB_Usage   Skill   Effort     TAT\n",
       "count   24.00       24.00    24.00   24.00   24.00\n",
       "mean    31.62       14.08     3.74  261.25  638.92\n",
       "std     11.17        4.16     0.24  115.73  150.07\n",
       "min     18.00        9.00     3.25  125.00  399.00\n",
       "25%     23.00       10.00     3.60  181.75  504.00\n",
       "50%     29.00       14.00     3.70  218.00  653.50\n",
       "75%     36.50       17.75     4.00  351.75  774.50\n",
       "max     64.00       20.00     4.00  529.00  883.00"
      ]
     },
     "execution_count": 35,
     "metadata": {},
     "output_type": "execute_result"
    }
   ],
   "source": [
    "# Descriptive summary\n",
    "round(data.describe(),2)"
   ]
  },
  {
   "cell_type": "code",
   "execution_count": 36,
   "id": "fd6c09ab",
   "metadata": {},
   "outputs": [],
   "source": [
    "# Scaling using Z transform\n",
    "zdata = z().fit_transform(data)"
   ]
  },
  {
   "cell_type": "code",
   "execution_count": 38,
   "id": "6a9b571a",
   "metadata": {},
   "outputs": [],
   "source": [
    "# Converting transformed data to data frame format\n",
    "zdata = pd.DataFrame(data=zdata,columns=data.columns)"
   ]
  },
  {
   "cell_type": "code",
   "execution_count": 39,
   "id": "ef49882f",
   "metadata": {},
   "outputs": [
    {
     "data": {
      "text/html": [
       "<div>\n",
       "<style scoped>\n",
       "    .dataframe tbody tr th:only-of-type {\n",
       "        vertical-align: middle;\n",
       "    }\n",
       "\n",
       "    .dataframe tbody tr th {\n",
       "        vertical-align: top;\n",
       "    }\n",
       "\n",
       "    .dataframe thead th {\n",
       "        text-align: right;\n",
       "    }\n",
       "</style>\n",
       "<table border=\"1\" class=\"dataframe\">\n",
       "  <thead>\n",
       "    <tr style=\"text-align: right;\">\n",
       "      <th></th>\n",
       "      <th>Volume</th>\n",
       "      <th>KDEB_Usage</th>\n",
       "      <th>Skill</th>\n",
       "      <th>Effort</th>\n",
       "      <th>TAT</th>\n",
       "    </tr>\n",
       "  </thead>\n",
       "  <tbody>\n",
       "    <tr>\n",
       "      <th>0</th>\n",
       "      <td>0.583006</td>\n",
       "      <td>-0.266083</td>\n",
       "      <td>-0.601041</td>\n",
       "      <td>1.065798</td>\n",
       "      <td>1.035218</td>\n",
       "    </tr>\n",
       "    <tr>\n",
       "      <th>1</th>\n",
       "      <td>2.960757</td>\n",
       "      <td>-1.002928</td>\n",
       "      <td>-0.601041</td>\n",
       "      <td>1.242327</td>\n",
       "      <td>1.198583</td>\n",
       "    </tr>\n",
       "    <tr>\n",
       "      <th>2</th>\n",
       "      <td>1.223170</td>\n",
       "      <td>-0.511698</td>\n",
       "      <td>-0.601041</td>\n",
       "      <td>0.951053</td>\n",
       "      <td>0.109478</td>\n",
       "    </tr>\n",
       "    <tr>\n",
       "      <th>3</th>\n",
       "      <td>1.863334</td>\n",
       "      <td>-1.002928</td>\n",
       "      <td>-0.601041</td>\n",
       "      <td>2.363290</td>\n",
       "      <td>-1.081732</td>\n",
       "    </tr>\n",
       "    <tr>\n",
       "      <th>4</th>\n",
       "      <td>-0.331513</td>\n",
       "      <td>-1.248543</td>\n",
       "      <td>-0.601041</td>\n",
       "      <td>2.363290</td>\n",
       "      <td>-1.265518</td>\n",
       "    </tr>\n",
       "  </tbody>\n",
       "</table>\n",
       "</div>"
      ],
      "text/plain": [
       "     Volume  KDEB_Usage    Skill     Effort       TAT\n",
       "0  0.583006   -0.266083 -0.601041  1.065798  1.035218\n",
       "1  2.960757   -1.002928 -0.601041  1.242327  1.198583\n",
       "2  1.223170   -0.511698 -0.601041  0.951053  0.109478\n",
       "3  1.863334   -1.002928 -0.601041  2.363290 -1.081732\n",
       "4 -0.331513   -1.248543 -0.601041  2.363290 -1.265518"
      ]
     },
     "execution_count": 39,
     "metadata": {},
     "output_type": "execute_result"
    }
   ],
   "source": [
    "# Explore the transformed data\n",
    "zdata.head()"
   ]
  },
  {
   "cell_type": "code",
   "execution_count": 40,
   "id": "7e864aae",
   "metadata": {},
   "outputs": [
    {
     "data": {
      "text/html": [
       "<div>\n",
       "<style scoped>\n",
       "    .dataframe tbody tr th:only-of-type {\n",
       "        vertical-align: middle;\n",
       "    }\n",
       "\n",
       "    .dataframe tbody tr th {\n",
       "        vertical-align: top;\n",
       "    }\n",
       "\n",
       "    .dataframe thead th {\n",
       "        text-align: right;\n",
       "    }\n",
       "</style>\n",
       "<table border=\"1\" class=\"dataframe\">\n",
       "  <thead>\n",
       "    <tr style=\"text-align: right;\">\n",
       "      <th></th>\n",
       "      <th>Volume</th>\n",
       "      <th>KDEB_Usage</th>\n",
       "      <th>Skill</th>\n",
       "      <th>Effort</th>\n",
       "      <th>TAT</th>\n",
       "    </tr>\n",
       "  </thead>\n",
       "  <tbody>\n",
       "    <tr>\n",
       "      <th>count</th>\n",
       "      <td>24.000</td>\n",
       "      <td>24.000</td>\n",
       "      <td>24.000</td>\n",
       "      <td>24.000</td>\n",
       "      <td>24.000</td>\n",
       "    </tr>\n",
       "    <tr>\n",
       "      <th>mean</th>\n",
       "      <td>0.000</td>\n",
       "      <td>-0.000</td>\n",
       "      <td>-0.000</td>\n",
       "      <td>0.000</td>\n",
       "      <td>0.000</td>\n",
       "    </tr>\n",
       "    <tr>\n",
       "      <th>std</th>\n",
       "      <td>1.022</td>\n",
       "      <td>1.022</td>\n",
       "      <td>1.022</td>\n",
       "      <td>1.022</td>\n",
       "      <td>1.022</td>\n",
       "    </tr>\n",
       "    <tr>\n",
       "      <th>min</th>\n",
       "      <td>-1.246</td>\n",
       "      <td>-1.249</td>\n",
       "      <td>-2.086</td>\n",
       "      <td>-1.203</td>\n",
       "      <td>-1.633</td>\n",
       "    </tr>\n",
       "    <tr>\n",
       "      <th>25%</th>\n",
       "      <td>-0.789</td>\n",
       "      <td>-1.003</td>\n",
       "      <td>-0.601</td>\n",
       "      <td>-0.702</td>\n",
       "      <td>-0.918</td>\n",
       "    </tr>\n",
       "    <tr>\n",
       "      <th>50%</th>\n",
       "      <td>-0.240</td>\n",
       "      <td>-0.020</td>\n",
       "      <td>-0.177</td>\n",
       "      <td>-0.382</td>\n",
       "      <td>0.099</td>\n",
       "    </tr>\n",
       "    <tr>\n",
       "      <th>75%</th>\n",
       "      <td>0.446</td>\n",
       "      <td>0.901</td>\n",
       "      <td>1.096</td>\n",
       "      <td>0.799</td>\n",
       "      <td>0.923</td>\n",
       "    </tr>\n",
       "    <tr>\n",
       "      <th>max</th>\n",
       "      <td>2.961</td>\n",
       "      <td>1.453</td>\n",
       "      <td>1.096</td>\n",
       "      <td>2.363</td>\n",
       "      <td>1.661</td>\n",
       "    </tr>\n",
       "  </tbody>\n",
       "</table>\n",
       "</div>"
      ],
      "text/plain": [
       "       Volume  KDEB_Usage   Skill   Effort     TAT\n",
       "count  24.000      24.000   24.000  24.000  24.000\n",
       "mean    0.000      -0.000   -0.000   0.000   0.000\n",
       "std     1.022       1.022    1.022   1.022   1.022\n",
       "min    -1.246      -1.249   -2.086  -1.203  -1.633\n",
       "25%    -0.789      -1.003   -0.601  -0.702  -0.918\n",
       "50%    -0.240      -0.020   -0.177  -0.382   0.099\n",
       "75%     0.446       0.901    1.096   0.799   0.923\n",
       "max     2.961       1.453    1.096   2.363   1.661"
      ]
     },
     "execution_count": 40,
     "metadata": {},
     "output_type": "execute_result"
    }
   ],
   "source": [
    "#Descriptive summary of the transformed data\n",
    "round(zdata.describe(),3)"
   ]
  },
  {
   "cell_type": "code",
   "execution_count": 41,
   "id": "c74c72e8",
   "metadata": {},
   "outputs": [],
   "source": [
    "zdata.to_excel('ztransform.xlsx')"
   ]
  },
  {
   "cell_type": "markdown",
   "id": "5ee2f4fa",
   "metadata": {},
   "source": [
    "### Min-Max Transformation"
   ]
  },
  {
   "cell_type": "markdown",
   "id": "f436e8a0",
   "metadata": {},
   "source": [
    "X scaled = (X - X min)/(X max - X min)"
   ]
  },
  {
   "cell_type": "code",
   "execution_count": 42,
   "id": "b5bd206d",
   "metadata": {},
   "outputs": [],
   "source": [
    "# Min-Max transformation\n",
    "minmaxdata = MinMax().fit_transform(data)"
   ]
  },
  {
   "cell_type": "code",
   "execution_count": 44,
   "id": "c57ad579",
   "metadata": {},
   "outputs": [],
   "source": [
    "# Convert transformed data to data frame format\n",
    "minmaxdata = pd.DataFrame(minmaxdata,columns=data.columns)"
   ]
  },
  {
   "cell_type": "code",
   "execution_count": 45,
   "id": "4f80dc83",
   "metadata": {},
   "outputs": [
    {
     "data": {
      "text/html": [
       "<div>\n",
       "<style scoped>\n",
       "    .dataframe tbody tr th:only-of-type {\n",
       "        vertical-align: middle;\n",
       "    }\n",
       "\n",
       "    .dataframe tbody tr th {\n",
       "        vertical-align: top;\n",
       "    }\n",
       "\n",
       "    .dataframe thead th {\n",
       "        text-align: right;\n",
       "    }\n",
       "</style>\n",
       "<table border=\"1\" class=\"dataframe\">\n",
       "  <thead>\n",
       "    <tr style=\"text-align: right;\">\n",
       "      <th></th>\n",
       "      <th>Volume</th>\n",
       "      <th>KDEB_Usage</th>\n",
       "      <th>Skill</th>\n",
       "      <th>Effort</th>\n",
       "      <th>TAT</th>\n",
       "    </tr>\n",
       "  </thead>\n",
       "  <tbody>\n",
       "    <tr>\n",
       "      <th>0</th>\n",
       "      <td>0.434783</td>\n",
       "      <td>0.363636</td>\n",
       "      <td>0.466667</td>\n",
       "      <td>0.636139</td>\n",
       "      <td>0.809917</td>\n",
       "    </tr>\n",
       "    <tr>\n",
       "      <th>1</th>\n",
       "      <td>1.000000</td>\n",
       "      <td>0.090909</td>\n",
       "      <td>0.466667</td>\n",
       "      <td>0.685644</td>\n",
       "      <td>0.859504</td>\n",
       "    </tr>\n",
       "    <tr>\n",
       "      <th>2</th>\n",
       "      <td>0.586957</td>\n",
       "      <td>0.272727</td>\n",
       "      <td>0.466667</td>\n",
       "      <td>0.603960</td>\n",
       "      <td>0.528926</td>\n",
       "    </tr>\n",
       "    <tr>\n",
       "      <th>3</th>\n",
       "      <td>0.739130</td>\n",
       "      <td>0.090909</td>\n",
       "      <td>0.466667</td>\n",
       "      <td>1.000000</td>\n",
       "      <td>0.167355</td>\n",
       "    </tr>\n",
       "    <tr>\n",
       "      <th>4</th>\n",
       "      <td>0.217391</td>\n",
       "      <td>0.000000</td>\n",
       "      <td>0.466667</td>\n",
       "      <td>1.000000</td>\n",
       "      <td>0.111570</td>\n",
       "    </tr>\n",
       "  </tbody>\n",
       "</table>\n",
       "</div>"
      ],
      "text/plain": [
       "     Volume  KDEB_Usage    Skill     Effort       TAT\n",
       "0  0.434783    0.363636  0.466667  0.636139  0.809917\n",
       "1  1.000000    0.090909  0.466667  0.685644  0.859504\n",
       "2  0.586957    0.272727  0.466667  0.603960  0.528926\n",
       "3  0.739130    0.090909  0.466667  1.000000  0.167355\n",
       "4  0.217391    0.000000  0.466667  1.000000  0.111570"
      ]
     },
     "execution_count": 45,
     "metadata": {},
     "output_type": "execute_result"
    }
   ],
   "source": [
    "#Explore the min-max data\n",
    "minmaxdata.head()"
   ]
  },
  {
   "cell_type": "code",
   "execution_count": 46,
   "id": "e62360a9",
   "metadata": {
    "scrolled": true
   },
   "outputs": [
    {
     "data": {
      "text/html": [
       "<div>\n",
       "<style scoped>\n",
       "    .dataframe tbody tr th:only-of-type {\n",
       "        vertical-align: middle;\n",
       "    }\n",
       "\n",
       "    .dataframe tbody tr th {\n",
       "        vertical-align: top;\n",
       "    }\n",
       "\n",
       "    .dataframe thead th {\n",
       "        text-align: right;\n",
       "    }\n",
       "</style>\n",
       "<table border=\"1\" class=\"dataframe\">\n",
       "  <thead>\n",
       "    <tr style=\"text-align: right;\">\n",
       "      <th></th>\n",
       "      <th>Volume</th>\n",
       "      <th>KDEB_Usage</th>\n",
       "      <th>Skill</th>\n",
       "      <th>Effort</th>\n",
       "      <th>TAT</th>\n",
       "    </tr>\n",
       "  </thead>\n",
       "  <tbody>\n",
       "    <tr>\n",
       "      <th>count</th>\n",
       "      <td>24.000</td>\n",
       "      <td>24.000</td>\n",
       "      <td>24.000</td>\n",
       "      <td>24.000</td>\n",
       "      <td>24.000</td>\n",
       "    </tr>\n",
       "    <tr>\n",
       "      <th>mean</th>\n",
       "      <td>0.296</td>\n",
       "      <td>0.462</td>\n",
       "      <td>0.656</td>\n",
       "      <td>0.337</td>\n",
       "      <td>0.496</td>\n",
       "    </tr>\n",
       "    <tr>\n",
       "      <th>std</th>\n",
       "      <td>0.243</td>\n",
       "      <td>0.378</td>\n",
       "      <td>0.321</td>\n",
       "      <td>0.286</td>\n",
       "      <td>0.310</td>\n",
       "    </tr>\n",
       "    <tr>\n",
       "      <th>min</th>\n",
       "      <td>0.000</td>\n",
       "      <td>0.000</td>\n",
       "      <td>0.000</td>\n",
       "      <td>0.000</td>\n",
       "      <td>0.000</td>\n",
       "    </tr>\n",
       "    <tr>\n",
       "      <th>25%</th>\n",
       "      <td>0.109</td>\n",
       "      <td>0.091</td>\n",
       "      <td>0.467</td>\n",
       "      <td>0.140</td>\n",
       "      <td>0.217</td>\n",
       "    </tr>\n",
       "    <tr>\n",
       "      <th>50%</th>\n",
       "      <td>0.239</td>\n",
       "      <td>0.455</td>\n",
       "      <td>0.600</td>\n",
       "      <td>0.230</td>\n",
       "      <td>0.526</td>\n",
       "    </tr>\n",
       "    <tr>\n",
       "      <th>75%</th>\n",
       "      <td>0.402</td>\n",
       "      <td>0.795</td>\n",
       "      <td>1.000</td>\n",
       "      <td>0.561</td>\n",
       "      <td>0.776</td>\n",
       "    </tr>\n",
       "    <tr>\n",
       "      <th>max</th>\n",
       "      <td>1.000</td>\n",
       "      <td>1.000</td>\n",
       "      <td>1.000</td>\n",
       "      <td>1.000</td>\n",
       "      <td>1.000</td>\n",
       "    </tr>\n",
       "  </tbody>\n",
       "</table>\n",
       "</div>"
      ],
      "text/plain": [
       "       Volume  KDEB_Usage   Skill   Effort     TAT\n",
       "count  24.000      24.000   24.000  24.000  24.000\n",
       "mean    0.296       0.462    0.656   0.337   0.496\n",
       "std     0.243       0.378    0.321   0.286   0.310\n",
       "min     0.000       0.000    0.000   0.000   0.000\n",
       "25%     0.109       0.091    0.467   0.140   0.217\n",
       "50%     0.239       0.455    0.600   0.230   0.526\n",
       "75%     0.402       0.795    1.000   0.561   0.776\n",
       "max     1.000       1.000    1.000   1.000   1.000"
      ]
     },
     "execution_count": 46,
     "metadata": {},
     "output_type": "execute_result"
    }
   ],
   "source": [
    "#Descriptive summary of minmaxdata\n",
    "round(minmaxdata.describe(),3)"
   ]
  },
  {
   "cell_type": "code",
   "execution_count": null,
   "id": "c480e21a",
   "metadata": {},
   "outputs": [],
   "source": []
  }
 ],
 "metadata": {
  "kernelspec": {
   "display_name": "Python 3 (ipykernel)",
   "language": "python",
   "name": "python3"
  },
  "language_info": {
   "codemirror_mode": {
    "name": "ipython",
    "version": 3
   },
   "file_extension": ".py",
   "mimetype": "text/x-python",
   "name": "python",
   "nbconvert_exporter": "python",
   "pygments_lexer": "ipython3",
   "version": "3.9.12"
  }
 },
 "nbformat": 4,
 "nbformat_minor": 5
}
