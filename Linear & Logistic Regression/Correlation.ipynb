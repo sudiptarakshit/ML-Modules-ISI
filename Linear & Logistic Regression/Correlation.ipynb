{
 "cells": [
  {
   "cell_type": "markdown",
   "id": "6cf3c7cf",
   "metadata": {},
   "source": [
    "# Supervised Learning"
   ]
  },
  {
   "cell_type": "markdown",
   "id": "51671685",
   "metadata": {},
   "source": [
    "Y :Resonse/Target/output\n",
    "\n",
    "X :Explanatory Variables/ Features\n",
    "\n",
    "1. Statistical learning technique\n",
    "2. Machine learning technique\n",
    "\n",
    "Statistical learning : Model interpretability more, accuracy less.\n",
    "Machine learning : Model interpretability less, accuracy high.\n",
    "\n",
    "In some cases we need high accuracy as well as higher interpretability (Convincing a doctor to increase medical dosage on a patient). In some cases we need higher accuracy, but dont care how the calculation is reached (Finding the location of ship wreck in the ocean)\n",
    "\n",
    "Example of statistical learning: Regression\n",
    "\n",
    "| | Y | |\n",
    "| ----------- | ----------- |----------- |\n",
    "| X | Numeric  |Non-Numeric|\n",
    "| Numeric | Ordinary Regression|Logistic Regression |\n",
    "|Non-Numeric | Dummy variable regression |Dummy variable logistic regression|"
   ]
  },
  {
   "cell_type": "markdown",
   "id": "71f79a75",
   "metadata": {},
   "source": [
    "**Correlation Analysis**"
   ]
  },
  {
   "cell_type": "markdown",
   "id": "0e672ef0",
   "metadata": {},
   "source": [
    "---\n",
    "Technique to identify linear relationship between two variables.\n",
    "\n",
    "Type and degree of linear relationship between two variables.\n",
    "\n",
    "Type of correlation : Positive, Negative, No Correlation.\n",
    "\n",
    "Correlation coefficient: r\n",
    "\n",
    "-1<=r<=1\n",
    "\n",
    "r = 0: No correlation\n",
    "Positive correlation: Product of (x-x bar) * (y - y bar) should be positive(S<sub>xy</sub> should be positive).\n",
    "\n",
    "Negative correlation: Product of (x-x bar) * (y - y bar) should be negative (S<sub>xy</sub> should be negative)."
   ]
  },
  {
   "cell_type": "markdown",
   "id": "a81b2fd7",
   "metadata": {},
   "source": [
    "**Example 1**"
   ]
  },
  {
   "cell_type": "markdown",
   "id": "97c7660c",
   "metadata": {},
   "source": [
    "The data on vapor pressure of water at various temperatures are given in Correlation.csv file.\n",
    "1. Construct the scatter plot and interpret? \n",
    "2. Compute the correlation coefficient?"
   ]
  },
  {
   "cell_type": "code",
   "execution_count": 1,
   "id": "277feba3",
   "metadata": {},
   "outputs": [],
   "source": [
    "#Import libraries\n",
    "import pandas as pd\n",
    "import numpy as np\n",
    "import matplotlib.pyplot as plt\n",
    "import seaborn as sns"
   ]
  },
  {
   "cell_type": "code",
   "execution_count": 3,
   "id": "ef258bee",
   "metadata": {},
   "outputs": [],
   "source": [
    "#Import dataset\n",
    "data = pd.read_csv('Correlation.csv')"
   ]
  },
  {
   "cell_type": "code",
   "execution_count": 4,
   "id": "ecafe260",
   "metadata": {},
   "outputs": [
    {
     "data": {
      "text/html": [
       "<div>\n",
       "<style scoped>\n",
       "    .dataframe tbody tr th:only-of-type {\n",
       "        vertical-align: middle;\n",
       "    }\n",
       "\n",
       "    .dataframe tbody tr th {\n",
       "        vertical-align: top;\n",
       "    }\n",
       "\n",
       "    .dataframe thead th {\n",
       "        text-align: right;\n",
       "    }\n",
       "</style>\n",
       "<table border=\"1\" class=\"dataframe\">\n",
       "  <thead>\n",
       "    <tr style=\"text-align: right;\">\n",
       "      <th></th>\n",
       "      <th>Temperature</th>\n",
       "      <th>Vapor Pressure</th>\n",
       "    </tr>\n",
       "  </thead>\n",
       "  <tbody>\n",
       "    <tr>\n",
       "      <th>0</th>\n",
       "      <td>273</td>\n",
       "      <td>4.7</td>\n",
       "    </tr>\n",
       "    <tr>\n",
       "      <th>1</th>\n",
       "      <td>283</td>\n",
       "      <td>9.3</td>\n",
       "    </tr>\n",
       "    <tr>\n",
       "      <th>2</th>\n",
       "      <td>293</td>\n",
       "      <td>17.6</td>\n",
       "    </tr>\n",
       "    <tr>\n",
       "      <th>3</th>\n",
       "      <td>303</td>\n",
       "      <td>31.7</td>\n",
       "    </tr>\n",
       "    <tr>\n",
       "      <th>4</th>\n",
       "      <td>313</td>\n",
       "      <td>55.2</td>\n",
       "    </tr>\n",
       "  </tbody>\n",
       "</table>\n",
       "</div>"
      ],
      "text/plain": [
       "   Temperature  Vapor Pressure\n",
       "0          273             4.7\n",
       "1          283             9.3\n",
       "2          293            17.6\n",
       "3          303            31.7\n",
       "4          313            55.2"
      ]
     },
     "execution_count": 4,
     "metadata": {},
     "output_type": "execute_result"
    }
   ],
   "source": [
    "#Check the dataset\n",
    "data.head(5)"
   ]
  },
  {
   "cell_type": "code",
   "execution_count": 5,
   "id": "e1c0c881",
   "metadata": {},
   "outputs": [
    {
     "name": "stdout",
     "output_type": "stream",
     "text": [
      "<class 'pandas.core.frame.DataFrame'>\n",
      "RangeIndex: 11 entries, 0 to 10\n",
      "Data columns (total 2 columns):\n",
      " #   Column          Non-Null Count  Dtype  \n",
      "---  ------          --------------  -----  \n",
      " 0   Temperature     11 non-null     int64  \n",
      " 1   Vapor Pressure  11 non-null     float64\n",
      "dtypes: float64(1), int64(1)\n",
      "memory usage: 304.0 bytes\n"
     ]
    }
   ],
   "source": [
    "#Check the structure of the data\n",
    "data.info()"
   ]
  },
  {
   "cell_type": "code",
   "execution_count": 6,
   "id": "2519e90f",
   "metadata": {},
   "outputs": [],
   "source": [
    "#Read variables\n",
    "#Temperature\n",
    "Temperature = data.Temperature\n",
    "#Pressure\n",
    "Pressure = data['Vapor Pressure']"
   ]
  },
  {
   "cell_type": "code",
   "execution_count": 7,
   "id": "c6ec13ad",
   "metadata": {},
   "outputs": [
    {
     "data": {
      "image/png": "[encoded data removed]",
      "text/plain": [
       "<Figure size 432x288 with 1 Axes>"
      ]
     },
     "metadata": {
      "needs_background": "light"
     },
     "output_type": "display_data"
    }
   ],
   "source": [
    "#We construct scatter plot\n",
    "plt.scatter(Temperature,Pressure)\n",
    "plt.show()"
   ]
  },
  {
   "cell_type": "code",
   "execution_count": 8,
   "id": "bb42eb8a",
   "metadata": {},
   "outputs": [
    {
     "data": {
      "text/plain": [
       "array([[1.        , 0.89327785],\n",
       "       [0.89327785, 1.        ]])"
      ]
     },
     "execution_count": 8,
     "metadata": {},
     "output_type": "execute_result"
    }
   ],
   "source": [
    "#We compute correlation coefficient\n",
    "np.corrcoef(Temperature,Pressure)"
   ]
  },
  {
   "cell_type": "markdown",
   "id": "1248a5fa",
   "metadata": {},
   "source": [
    "We find that correlation coefficient is 0.89"
   ]
  },
  {
   "cell_type": "code",
   "execution_count": null,
   "id": "9241e21c",
   "metadata": {},
   "outputs": [],
   "source": []
  }
 ],
 "metadata": {
  "kernelspec": {
   "display_name": "Python 3 (ipykernel)",
   "language": "python",
   "name": "python3"
  },
  "language_info": {
   "codemirror_mode": {
    "name": "ipython",
    "version": 3
   },
   "file_extension": ".py",
   "mimetype": "text/x-python",
   "name": "python",
   "nbconvert_exporter": "python",
   "pygments_lexer": "ipython3",
   "version": "3.9.12"
  }
 },
 "nbformat": 4,
 "nbformat_minor": 5
}
