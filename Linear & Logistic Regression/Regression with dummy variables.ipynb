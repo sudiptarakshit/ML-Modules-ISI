{
 "cells": [
  {
   "cell_type": "markdown",
   "id": "9e60e538",
   "metadata": {},
   "source": [
    "**Regression with dummy variables**"
   ]
  },
  {
   "cell_type": "markdown",
   "id": "c0cf3398",
   "metadata": {},
   "source": [
    "When x’s are not numeric but nominal, Each nominal or categorical variable is converted into dummy variables Dummy variables takes values 0 or 1\\\n",
    "Number of dummy variable for one x variable is equal to number of distinct values of that variable - 1"
   ]
  },
  {
   "cell_type": "markdown",
   "id": "82fe2b78",
   "metadata": {},
   "source": [
    "**Example**"
   ]
  },
  {
   "cell_type": "markdown",
   "id": "34d691ad",
   "metadata": {},
   "source": [
    "A study was conducted by an IT company to develop a model to estimate sprint productivity of agile projects in telecom vertical. The explonatory variables chosen are developer skill, review type and code reuse. Data was collected from 34 projects and is given in Agile_Sprint_Productivity file.?"
   ]
  },
  {
   "cell_type": "code",
   "execution_count": 2,
   "id": "9c6c528b",
   "metadata": {},
   "outputs": [],
   "source": [
    "#Import the packages\n",
    "import pandas as pd\n",
    "import matplotlib.pyplot as plt\n",
    "import seaborn as sns\n",
    "from scipy import stats\n",
    "from statsmodels.formula.api import ols"
   ]
  },
  {
   "cell_type": "code",
   "execution_count": 3,
   "id": "d811a6d2",
   "metadata": {},
   "outputs": [],
   "source": [
    "#Import the dataset\n",
    "data = pd.read_excel('Agile_Sprint_Productivity.xlsx')"
   ]
  },
  {
   "cell_type": "code",
   "execution_count": 4,
   "id": "f8b177a8",
   "metadata": {},
   "outputs": [
    {
     "data": {
      "text/html": [
       "<div>\n",
       "<style scoped>\n",
       "    .dataframe tbody tr th:only-of-type {\n",
       "        vertical-align: middle;\n",
       "    }\n",
       "\n",
       "    .dataframe tbody tr th {\n",
       "        vertical-align: top;\n",
       "    }\n",
       "\n",
       "    .dataframe thead th {\n",
       "        text-align: right;\n",
       "    }\n",
       "</style>\n",
       "<table border=\"1\" class=\"dataframe\">\n",
       "  <thead>\n",
       "    <tr style=\"text-align: right;\">\n",
       "      <th></th>\n",
       "      <th>Developer_Skill</th>\n",
       "      <th>Review_Type</th>\n",
       "      <th>Reuse</th>\n",
       "      <th>Sprint_Productivty</th>\n",
       "    </tr>\n",
       "  </thead>\n",
       "  <tbody>\n",
       "    <tr>\n",
       "      <th>0</th>\n",
       "      <td>2-Experienced</td>\n",
       "      <td>Peer</td>\n",
       "      <td>50</td>\n",
       "      <td>0.52</td>\n",
       "    </tr>\n",
       "    <tr>\n",
       "      <th>1</th>\n",
       "      <td>2-Experienced</td>\n",
       "      <td>Fagan</td>\n",
       "      <td>70</td>\n",
       "      <td>0.99</td>\n",
       "    </tr>\n",
       "    <tr>\n",
       "      <th>2</th>\n",
       "      <td>1-Fresher</td>\n",
       "      <td>Peer</td>\n",
       "      <td>25</td>\n",
       "      <td>0.35</td>\n",
       "    </tr>\n",
       "    <tr>\n",
       "      <th>3</th>\n",
       "      <td>1-Fresher</td>\n",
       "      <td>Peer</td>\n",
       "      <td>25</td>\n",
       "      <td>0.19</td>\n",
       "    </tr>\n",
       "    <tr>\n",
       "      <th>4</th>\n",
       "      <td>2-Experienced</td>\n",
       "      <td>Peer</td>\n",
       "      <td>50</td>\n",
       "      <td>0.57</td>\n",
       "    </tr>\n",
       "  </tbody>\n",
       "</table>\n",
       "</div>"
      ],
      "text/plain": [
       "  Developer_Skill Review_Type  Reuse   Sprint_Productivty\n",
       "0   2-Experienced        Peer      50                0.52\n",
       "1   2-Experienced       Fagan      70                0.99\n",
       "2       1-Fresher        Peer      25                0.35\n",
       "3       1-Fresher        Peer      25                0.19\n",
       "4   2-Experienced        Peer      50                0.57"
      ]
     },
     "execution_count": 4,
     "metadata": {},
     "output_type": "execute_result"
    }
   ],
   "source": [
    "#Explore the dataset\n",
    "data.head()"
   ]
  },
  {
   "cell_type": "code",
   "execution_count": 5,
   "id": "de750360",
   "metadata": {},
   "outputs": [],
   "source": [
    "#Copy features to new variables\n",
    "dev_skill = data.Developer_Skill\n",
    "rev_type = data.Review_Type\n",
    "reuse = data.iloc[:,2]\n",
    "sp = data.Sprint_Productivty"
   ]
  },
  {
   "cell_type": "code",
   "execution_count": 6,
   "id": "8eeb2b3f",
   "metadata": {},
   "outputs": [
    {
     "data": {
      "image/png": "[encoded data removed]",
      "text/plain": [
       "<Figure size 432x288 with 1 Axes>"
      ]
     },
     "metadata": {
      "needs_background": "light"
     },
     "output_type": "display_data"
    }
   ],
   "source": [
    "#Preliminary analysis - Box plot of Developer_Skill Vs Sprint_Productivty\n",
    "sns.boxplot(x=dev_skill,y=sp)\n",
    "plt.title('Box plot of Developer_Skill Vs Sprint_Productivty')\n",
    "plt.xlabel('Developer Skill')\n",
    "plt.ylabel('Sprint_Productivty')\n",
    "plt.show()"
   ]
  },
  {
   "cell_type": "code",
   "execution_count": 13,
   "id": "ed7e5d58",
   "metadata": {},
   "outputs": [
    {
     "data": {
      "image/png": "[encoded data removed]",
      "text/plain": [
       "<Figure size 432x288 with 1 Axes>"
      ]
     },
     "metadata": {
      "needs_background": "light"
     },
     "output_type": "display_data"
    }
   ],
   "source": [
    "#Preliminary analysis - Box plot of Review Type Vs Sprint_Productivty\n",
    "mysb.boxplot(x=rev_type,y=sp)\n",
    "myplot.title('Box plot of Review Type Vs Sprint_Productivty')\n",
    "myplot.xlabel('Review Type')\n",
    "myplot.ylabel('Sprint_Productivty')\n",
    "myplot.show()"
   ]
  },
  {
   "cell_type": "code",
   "execution_count": 7,
   "id": "59c63c00",
   "metadata": {},
   "outputs": [
    {
     "data": {
      "image/png": "[encoded data removed]",
      "text/plain": [
       "<Figure size 432x288 with 1 Axes>"
      ]
     },
     "metadata": {
      "needs_background": "light"
     },
     "output_type": "display_data"
    }
   ],
   "source": [
    "#Preliminary analysis - Scatter plot of Reuse Vs Sprint_Productivty\n",
    "sns.scatterplot(x=reuse,y=sp)\n",
    "plt.title('Scatter plot of Reuse Vs Sprint_Productivty')\n",
    "plt.xlabel('Reuse')\n",
    "plt.ylabel('Sprint_Productivty')\n",
    "plt.grid()\n",
    "plt.show()"
   ]
  },
  {
   "cell_type": "markdown",
   "id": "7d051d63",
   "metadata": {},
   "source": [
    "It shows increasing trend. So, there is a positive correlation."
   ]
  },
  {
   "cell_type": "code",
   "execution_count": 10,
   "id": "b25e002e",
   "metadata": {},
   "outputs": [],
   "source": [
    "#Dummy variable regression model\n",
    "model = ols('sp~C(rev_type)+C(dev_skill)+reuse',data=data).fit()"
   ]
  },
  {
   "cell_type": "code",
   "execution_count": 11,
   "id": "7b1330e9",
   "metadata": {},
   "outputs": [
    {
     "data": {
      "text/html": [
       "<table class=\"simpletable\">\n",
       "<caption>OLS Regression Results</caption>\n",
       "<tr>\n",
       "  <th>Dep. Variable:</th>           <td>sp</td>        <th>  R-squared:         </th> <td>   0.931</td>\n",
       "</tr>\n",
       "<tr>\n",
       "  <th>Model:</th>                   <td>OLS</td>       <th>  Adj. R-squared:    </th> <td>   0.921</td>\n",
       "</tr>\n",
       "<tr>\n",
       "  <th>Method:</th>             <td>Least Squares</td>  <th>  F-statistic:       </th> <td>   97.69</td>\n",
       "</tr>\n",
       "<tr>\n",
       "  <th>Date:</th>             <td>Mon, 05 Sep 2022</td> <th>  Prob (F-statistic):</th> <td>2.15e-16</td>\n",
       "</tr>\n",
       "<tr>\n",
       "  <th>Time:</th>                 <td>22:11:59</td>     <th>  Log-Likelihood:    </th> <td>  28.424</td>\n",
       "</tr>\n",
       "<tr>\n",
       "  <th>No. Observations:</th>      <td>    34</td>      <th>  AIC:               </th> <td>  -46.85</td>\n",
       "</tr>\n",
       "<tr>\n",
       "  <th>Df Residuals:</th>          <td>    29</td>      <th>  BIC:               </th> <td>  -39.22</td>\n",
       "</tr>\n",
       "<tr>\n",
       "  <th>Df Model:</th>              <td>     4</td>      <th>                     </th>     <td> </td>   \n",
       "</tr>\n",
       "<tr>\n",
       "  <th>Covariance Type:</th>      <td>nonrobust</td>    <th>                     </th>     <td> </td>   \n",
       "</tr>\n",
       "</table>\n",
       "<table class=\"simpletable\">\n",
       "<tr>\n",
       "                <td></td>                   <th>coef</th>     <th>std err</th>      <th>t</th>      <th>P>|t|</th>  <th>[0.025</th>    <th>0.975]</th>  \n",
       "</tr>\n",
       "<tr>\n",
       "  <th>Intercept</th>                     <td>    0.4055</td> <td>    0.103</td> <td>    3.939</td> <td> 0.000</td> <td>    0.195</td> <td>    0.616</td>\n",
       "</tr>\n",
       "<tr>\n",
       "  <th>C(rev_type)[T.Peer]</th>           <td>   -0.2140</td> <td>    0.070</td> <td>   -3.038</td> <td> 0.005</td> <td>   -0.358</td> <td>   -0.070</td>\n",
       "</tr>\n",
       "<tr>\n",
       "  <th>C(dev_skill)[T.2-Experienced]</th> <td>    0.1989</td> <td>    0.080</td> <td>    2.471</td> <td> 0.020</td> <td>    0.034</td> <td>    0.363</td>\n",
       "</tr>\n",
       "<tr>\n",
       "  <th>C(dev_skill)[T.3-Master]</th>      <td>    0.7999</td> <td>    0.125</td> <td>    6.424</td> <td> 0.000</td> <td>    0.545</td> <td>    1.055</td>\n",
       "</tr>\n",
       "<tr>\n",
       "  <th>reuse</th>                         <td>    0.0036</td> <td>    0.002</td> <td>    1.494</td> <td> 0.146</td> <td>   -0.001</td> <td>    0.008</td>\n",
       "</tr>\n",
       "</table>\n",
       "<table class=\"simpletable\">\n",
       "<tr>\n",
       "  <th>Omnibus:</th>       <td> 0.957</td> <th>  Durbin-Watson:     </th> <td>   1.964</td>\n",
       "</tr>\n",
       "<tr>\n",
       "  <th>Prob(Omnibus):</th> <td> 0.620</td> <th>  Jarque-Bera (JB):  </th> <td>   0.817</td>\n",
       "</tr>\n",
       "<tr>\n",
       "  <th>Skew:</th>          <td> 0.037</td> <th>  Prob(JB):          </th> <td>   0.665</td>\n",
       "</tr>\n",
       "<tr>\n",
       "  <th>Kurtosis:</th>      <td> 2.244</td> <th>  Cond. No.          </th> <td>    333.</td>\n",
       "</tr>\n",
       "</table><br/><br/>Notes:<br/>[1] Standard Errors assume that the covariance matrix of the errors is correctly specified."
      ],
      "text/plain": [
       "<class 'statsmodels.iolib.summary.Summary'>\n",
       "\"\"\"\n",
       "                            OLS Regression Results                            \n",
       "==============================================================================\n",
       "Dep. Variable:                     sp   R-squared:                       0.931\n",
       "Model:                            OLS   Adj. R-squared:                  0.921\n",
       "Method:                 Least Squares   F-statistic:                     97.69\n",
       "Date:                Mon, 05 Sep 2022   Prob (F-statistic):           2.15e-16\n",
       "Time:                        22:11:59   Log-Likelihood:                 28.424\n",
       "No. Observations:                  34   AIC:                            -46.85\n",
       "Df Residuals:                      29   BIC:                            -39.22\n",
       "Df Model:                           4                                         \n",
       "Covariance Type:            nonrobust                                         \n",
       "=================================================================================================\n",
       "                                    coef    std err          t      P>|t|      [0.025      0.975]\n",
       "-------------------------------------------------------------------------------------------------\n",
       "Intercept                         0.4055      0.103      3.939      0.000       0.195       0.616\n",
       "C(rev_type)[T.Peer]              -0.2140      0.070     -3.038      0.005      -0.358      -0.070\n",
       "C(dev_skill)[T.2-Experienced]     0.1989      0.080      2.471      0.020       0.034       0.363\n",
       "C(dev_skill)[T.3-Master]          0.7999      0.125      6.424      0.000       0.545       1.055\n",
       "reuse                             0.0036      0.002      1.494      0.146      -0.001       0.008\n",
       "==============================================================================\n",
       "Omnibus:                        0.957   Durbin-Watson:                   1.964\n",
       "Prob(Omnibus):                  0.620   Jarque-Bera (JB):                0.817\n",
       "Skew:                           0.037   Prob(JB):                        0.665\n",
       "Kurtosis:                       2.244   Cond. No.                         333.\n",
       "==============================================================================\n",
       "\n",
       "Notes:\n",
       "[1] Standard Errors assume that the covariance matrix of the errors is correctly specified.\n",
       "\"\"\""
      ]
     },
     "execution_count": 11,
     "metadata": {},
     "output_type": "execute_result"
    }
   ],
   "source": [
    "#Model Summary\n",
    "model.summary()"
   ]
  },
  {
   "cell_type": "markdown",
   "id": "e1b512ba",
   "metadata": {},
   "source": [
    "1. P value <0.05: Model is significant\n",
    "2. R2 and R2 adj above 90%. Model is accurate"
   ]
  },
  {
   "cell_type": "code",
   "execution_count": 12,
   "id": "047303d3",
   "metadata": {},
   "outputs": [],
   "source": [
    "#Predicted Values\n",
    "Predicted = model.predict()"
   ]
  },
  {
   "cell_type": "code",
   "execution_count": 13,
   "id": "5e0f6578",
   "metadata": {},
   "outputs": [],
   "source": [
    "#Residuals\n",
    "res = sp - Predicted"
   ]
  },
  {
   "cell_type": "code",
   "execution_count": 14,
   "id": "fa851614",
   "metadata": {},
   "outputs": [
    {
     "data": {
      "image/png": "[encoded data removed]",
      "text/plain": [
       "<Figure size 432x288 with 1 Axes>"
      ]
     },
     "metadata": {
      "needs_background": "light"
     },
     "output_type": "display_data"
    }
   ],
   "source": [
    "#Residual Analysis\n",
    "stats.probplot(x=res,plot=plt)\n",
    "plt.grid()\n",
    "plt.show()"
   ]
  },
  {
   "cell_type": "code",
   "execution_count": 15,
   "id": "b1d5e2aa",
   "metadata": {},
   "outputs": [
    {
     "data": {
      "text/plain": [
       "NormaltestResult(statistic=0.9569212646763734, pvalue=0.6197366604763934)"
      ]
     },
     "execution_count": 15,
     "metadata": {},
     "output_type": "execute_result"
    }
   ],
   "source": [
    "#Normality test of residuals\n",
    "stats.normaltest(res)"
   ]
  },
  {
   "cell_type": "markdown",
   "id": "52d24abb",
   "metadata": {},
   "source": [
    "p value >0.05. So, Residuals are normally distributed."
   ]
  },
  {
   "cell_type": "code",
   "execution_count": 16,
   "id": "e22a29f1",
   "metadata": {},
   "outputs": [
    {
     "data": {
      "image/png": "[encoded data removed]",
      "text/plain": [
       "<Figure size 432x288 with 1 Axes>"
      ]
     },
     "metadata": {
      "needs_background": "light"
     },
     "output_type": "display_data"
    }
   ],
   "source": [
    "#Residual Vs Predicted plot\n",
    "sns.scatterplot(x=Predicted,y=res)\n",
    "plt.xlabel('Predicted')\n",
    "plt.ylabel('Residual')\n",
    "plt.title('Residual Vs Predicted plot')\n",
    "plt.show()"
   ]
  },
  {
   "cell_type": "code",
   "execution_count": 17,
   "id": "b5071275",
   "metadata": {},
   "outputs": [],
   "source": [
    "#Convert Predicted to Dataframe\n",
    "Predicted = pd.DataFrame(Predicted,columns=['Predicted'])\n",
    "#Combine predicted values with data\n",
    "data = data.join(Predicted)"
   ]
  },
  {
   "cell_type": "code",
   "execution_count": 18,
   "id": "42921b7d",
   "metadata": {},
   "outputs": [
    {
     "data": {
      "text/html": [
       "<div>\n",
       "<style scoped>\n",
       "    .dataframe tbody tr th:only-of-type {\n",
       "        vertical-align: middle;\n",
       "    }\n",
       "\n",
       "    .dataframe tbody tr th {\n",
       "        vertical-align: top;\n",
       "    }\n",
       "\n",
       "    .dataframe thead th {\n",
       "        text-align: right;\n",
       "    }\n",
       "</style>\n",
       "<table border=\"1\" class=\"dataframe\">\n",
       "  <thead>\n",
       "    <tr style=\"text-align: right;\">\n",
       "      <th></th>\n",
       "      <th>Developer_Skill</th>\n",
       "      <th>Review_Type</th>\n",
       "      <th>Reuse</th>\n",
       "      <th>Sprint_Productivty</th>\n",
       "      <th>Predicted</th>\n",
       "    </tr>\n",
       "  </thead>\n",
       "  <tbody>\n",
       "    <tr>\n",
       "      <th>0</th>\n",
       "      <td>2-Experienced</td>\n",
       "      <td>Peer</td>\n",
       "      <td>50</td>\n",
       "      <td>0.52</td>\n",
       "      <td>0.568697</td>\n",
       "    </tr>\n",
       "    <tr>\n",
       "      <th>1</th>\n",
       "      <td>2-Experienced</td>\n",
       "      <td>Fagan</td>\n",
       "      <td>70</td>\n",
       "      <td>0.99</td>\n",
       "      <td>0.853988</td>\n",
       "    </tr>\n",
       "    <tr>\n",
       "      <th>2</th>\n",
       "      <td>1-Fresher</td>\n",
       "      <td>Peer</td>\n",
       "      <td>25</td>\n",
       "      <td>0.35</td>\n",
       "      <td>0.280669</td>\n",
       "    </tr>\n",
       "    <tr>\n",
       "      <th>3</th>\n",
       "      <td>1-Fresher</td>\n",
       "      <td>Peer</td>\n",
       "      <td>25</td>\n",
       "      <td>0.19</td>\n",
       "      <td>0.280669</td>\n",
       "    </tr>\n",
       "    <tr>\n",
       "      <th>4</th>\n",
       "      <td>2-Experienced</td>\n",
       "      <td>Peer</td>\n",
       "      <td>50</td>\n",
       "      <td>0.57</td>\n",
       "      <td>0.568697</td>\n",
       "    </tr>\n",
       "  </tbody>\n",
       "</table>\n",
       "</div>"
      ],
      "text/plain": [
       "  Developer_Skill Review_Type  Reuse   Sprint_Productivty  Predicted\n",
       "0   2-Experienced        Peer      50                0.52   0.568697\n",
       "1   2-Experienced       Fagan      70                0.99   0.853988\n",
       "2       1-Fresher        Peer      25                0.35   0.280669\n",
       "3       1-Fresher        Peer      25                0.19   0.280669\n",
       "4   2-Experienced        Peer      50                0.57   0.568697"
      ]
     },
     "execution_count": 18,
     "metadata": {},
     "output_type": "execute_result"
    }
   ],
   "source": [
    "#Check final data\n",
    "data.head()"
   ]
  },
  {
   "cell_type": "code",
   "execution_count": null,
   "id": "dbd5cf09",
   "metadata": {},
   "outputs": [],
   "source": []
  }
 ],
 "metadata": {
  "kernelspec": {
   "display_name": "Python 3 (ipykernel)",
   "language": "python",
   "name": "python3"
  },
  "language_info": {
   "codemirror_mode": {
    "name": "ipython",
    "version": 3
   },
   "file_extension": ".py",
   "mimetype": "text/x-python",
   "name": "python",
   "nbconvert_exporter": "python",
   "pygments_lexer": "ipython3",
   "version": "3.9.12"
  }
 },
 "nbformat": 4,
 "nbformat_minor": 5
}
