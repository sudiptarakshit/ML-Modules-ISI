{
 "cells": [
  {
   "cell_type": "markdown",
   "id": "1aa71e3f",
   "metadata": {},
   "source": [
    "## Doing regression through sklearn"
   ]
  },
  {
   "cell_type": "code",
   "execution_count": 1,
   "id": "3dab3700",
   "metadata": {},
   "outputs": [],
   "source": [
    "#Import the packages\n",
    "import pandas as pd\n",
    "import matplotlib.pyplot as plt\n",
    "import seaborn as sns\n",
    "from scipy import stats\n",
    "import math \n",
    "from sklearn.metrics import mean_squared_error\n",
    "from sklearn.model_selection import cross_val_score\n",
    "from sklearn.linear_model import LinearRegression"
   ]
  },
  {
   "cell_type": "code",
   "execution_count": 2,
   "id": "7a3bfc5e",
   "metadata": {},
   "outputs": [],
   "source": [
    "#Import the dataset\n",
    "data = pd.read_csv('Mult_Reg_Yield.csv')"
   ]
  },
  {
   "cell_type": "code",
   "execution_count": 3,
   "id": "26f00dd9",
   "metadata": {},
   "outputs": [
    {
     "data": {
      "text/html": [
       "<div>\n",
       "<style scoped>\n",
       "    .dataframe tbody tr th:only-of-type {\n",
       "        vertical-align: middle;\n",
       "    }\n",
       "\n",
       "    .dataframe tbody tr th {\n",
       "        vertical-align: top;\n",
       "    }\n",
       "\n",
       "    .dataframe thead th {\n",
       "        text-align: right;\n",
       "    }\n",
       "</style>\n",
       "<table border=\"1\" class=\"dataframe\">\n",
       "  <thead>\n",
       "    <tr style=\"text-align: right;\">\n",
       "      <th></th>\n",
       "      <th>Time</th>\n",
       "      <th>Temperature</th>\n",
       "      <th>Yield</th>\n",
       "    </tr>\n",
       "  </thead>\n",
       "  <tbody>\n",
       "    <tr>\n",
       "      <th>0</th>\n",
       "      <td>188</td>\n",
       "      <td>230</td>\n",
       "      <td>84.4</td>\n",
       "    </tr>\n",
       "    <tr>\n",
       "      <th>1</th>\n",
       "      <td>190</td>\n",
       "      <td>220</td>\n",
       "      <td>83.3</td>\n",
       "    </tr>\n",
       "    <tr>\n",
       "      <th>2</th>\n",
       "      <td>186</td>\n",
       "      <td>235</td>\n",
       "      <td>95.4</td>\n",
       "    </tr>\n",
       "    <tr>\n",
       "      <th>3</th>\n",
       "      <td>191</td>\n",
       "      <td>210</td>\n",
       "      <td>98.3</td>\n",
       "    </tr>\n",
       "    <tr>\n",
       "      <th>4</th>\n",
       "      <td>178</td>\n",
       "      <td>210</td>\n",
       "      <td>91.4</td>\n",
       "    </tr>\n",
       "  </tbody>\n",
       "</table>\n",
       "</div>"
      ],
      "text/plain": [
       "   Time  Temperature  Yield\n",
       "0   188          230   84.4\n",
       "1   190          220   83.3\n",
       "2   186          235   95.4\n",
       "3   191          210   98.3\n",
       "4   178          210   91.4"
      ]
     },
     "execution_count": 3,
     "metadata": {},
     "output_type": "execute_result"
    }
   ],
   "source": [
    "#Explore the dataste\n",
    "data.head()"
   ]
  },
  {
   "cell_type": "code",
   "execution_count": 4,
   "id": "5ce3019c",
   "metadata": {},
   "outputs": [
    {
     "data": {
      "text/html": [
       "<div>\n",
       "<style scoped>\n",
       "    .dataframe tbody tr th:only-of-type {\n",
       "        vertical-align: middle;\n",
       "    }\n",
       "\n",
       "    .dataframe tbody tr th {\n",
       "        vertical-align: top;\n",
       "    }\n",
       "\n",
       "    .dataframe thead th {\n",
       "        text-align: right;\n",
       "    }\n",
       "</style>\n",
       "<table border=\"1\" class=\"dataframe\">\n",
       "  <thead>\n",
       "    <tr style=\"text-align: right;\">\n",
       "      <th></th>\n",
       "      <th>Time</th>\n",
       "      <th>Temperature</th>\n",
       "      <th>Yield</th>\n",
       "    </tr>\n",
       "  </thead>\n",
       "  <tbody>\n",
       "    <tr>\n",
       "      <th>count</th>\n",
       "      <td>16.000000</td>\n",
       "      <td>16.000000</td>\n",
       "      <td>16.000000</td>\n",
       "    </tr>\n",
       "    <tr>\n",
       "      <th>mean</th>\n",
       "      <td>163.937500</td>\n",
       "      <td>213.062500</td>\n",
       "      <td>66.981250</td>\n",
       "    </tr>\n",
       "    <tr>\n",
       "      <th>std</th>\n",
       "      <td>23.450569</td>\n",
       "      <td>17.650189</td>\n",
       "      <td>23.705336</td>\n",
       "    </tr>\n",
       "    <tr>\n",
       "      <th>min</th>\n",
       "      <td>130.000000</td>\n",
       "      <td>176.000000</td>\n",
       "      <td>34.500000</td>\n",
       "    </tr>\n",
       "    <tr>\n",
       "      <th>25%</th>\n",
       "      <td>142.000000</td>\n",
       "      <td>203.750000</td>\n",
       "      <td>44.100000</td>\n",
       "    </tr>\n",
       "    <tr>\n",
       "      <th>50%</th>\n",
       "      <td>169.500000</td>\n",
       "      <td>214.000000</td>\n",
       "      <td>69.200000</td>\n",
       "    </tr>\n",
       "    <tr>\n",
       "      <th>75%</th>\n",
       "      <td>186.500000</td>\n",
       "      <td>226.250000</td>\n",
       "      <td>86.150000</td>\n",
       "    </tr>\n",
       "    <tr>\n",
       "      <th>max</th>\n",
       "      <td>194.000000</td>\n",
       "      <td>240.000000</td>\n",
       "      <td>98.300000</td>\n",
       "    </tr>\n",
       "  </tbody>\n",
       "</table>\n",
       "</div>"
      ],
      "text/plain": [
       "             Time  Temperature      Yield\n",
       "count   16.000000    16.000000  16.000000\n",
       "mean   163.937500   213.062500  66.981250\n",
       "std     23.450569    17.650189  23.705336\n",
       "min    130.000000   176.000000  34.500000\n",
       "25%    142.000000   203.750000  44.100000\n",
       "50%    169.500000   214.000000  69.200000\n",
       "75%    186.500000   226.250000  86.150000\n",
       "max    194.000000   240.000000  98.300000"
      ]
     },
     "execution_count": 4,
     "metadata": {},
     "output_type": "execute_result"
    }
   ],
   "source": [
    "#Check descriptive summary\n",
    "data.describe()"
   ]
  },
  {
   "cell_type": "code",
   "execution_count": 5,
   "id": "25d1f4e0",
   "metadata": {},
   "outputs": [
    {
     "name": "stdout",
     "output_type": "stream",
     "text": [
      "<class 'pandas.core.frame.DataFrame'>\n",
      "RangeIndex: 16 entries, 0 to 15\n",
      "Data columns (total 3 columns):\n",
      " #   Column       Non-Null Count  Dtype  \n",
      "---  ------       --------------  -----  \n",
      " 0   Time         16 non-null     int64  \n",
      " 1   Temperature  16 non-null     int64  \n",
      " 2   Yield        16 non-null     float64\n",
      "dtypes: float64(1), int64(2)\n",
      "memory usage: 512.0 bytes\n"
     ]
    }
   ],
   "source": [
    "#Check structure of the data\n",
    "data.info()"
   ]
  },
  {
   "cell_type": "code",
   "execution_count": 6,
   "id": "665a88d7",
   "metadata": {},
   "outputs": [
    {
     "data": {
      "text/html": [
       "<div>\n",
       "<style scoped>\n",
       "    .dataframe tbody tr th:only-of-type {\n",
       "        vertical-align: middle;\n",
       "    }\n",
       "\n",
       "    .dataframe tbody tr th {\n",
       "        vertical-align: top;\n",
       "    }\n",
       "\n",
       "    .dataframe thead th {\n",
       "        text-align: right;\n",
       "    }\n",
       "</style>\n",
       "<table border=\"1\" class=\"dataframe\">\n",
       "  <thead>\n",
       "    <tr style=\"text-align: right;\">\n",
       "      <th></th>\n",
       "      <th>Time</th>\n",
       "      <th>Temperature</th>\n",
       "      <th>Yield</th>\n",
       "    </tr>\n",
       "  </thead>\n",
       "  <tbody>\n",
       "    <tr>\n",
       "      <th>Time</th>\n",
       "      <td>1.000</td>\n",
       "      <td>-0.008</td>\n",
       "      <td>0.897</td>\n",
       "    </tr>\n",
       "    <tr>\n",
       "      <th>Temperature</th>\n",
       "      <td>-0.008</td>\n",
       "      <td>1.000</td>\n",
       "      <td>-0.055</td>\n",
       "    </tr>\n",
       "    <tr>\n",
       "      <th>Yield</th>\n",
       "      <td>0.897</td>\n",
       "      <td>-0.055</td>\n",
       "      <td>1.000</td>\n",
       "    </tr>\n",
       "  </tbody>\n",
       "</table>\n",
       "</div>"
      ],
      "text/plain": [
       "              Time  Temperature  Yield\n",
       "Time         1.000       -0.008  0.897\n",
       "Temperature -0.008        1.000 -0.055\n",
       "Yield        0.897       -0.055  1.000"
      ]
     },
     "execution_count": 6,
     "metadata": {},
     "output_type": "execute_result"
    }
   ],
   "source": [
    "#Preliminary exploration - Correlation analysis\n",
    "round(data.corr(),3)"
   ]
  },
  {
   "cell_type": "code",
   "execution_count": 7,
   "id": "c166a4ef",
   "metadata": {},
   "outputs": [
    {
     "data": {
      "image/png": "[encoded data removed]",
      "text/plain": [
       "<Figure size 540x540 with 12 Axes>"
      ]
     },
     "metadata": {
      "needs_background": "light"
     },
     "output_type": "display_data"
    }
   ],
   "source": [
    "#Preliminary analysis - Scatter plot\n",
    "sns.pairplot(data)\n",
    "plt.title('Scatter plot')\n",
    "plt.grid()\n",
    "plt.show()"
   ]
  },
  {
   "cell_type": "markdown",
   "id": "e095150f",
   "metadata": {},
   "source": [
    "While developing model through sklearn, always separate x and y"
   ]
  },
  {
   "cell_type": "code",
   "execution_count": 8,
   "id": "d834b63f",
   "metadata": {},
   "outputs": [],
   "source": [
    "#Separate x and y\n",
    "x = data.iloc[:,0:2]\n",
    "y = data.Yield"
   ]
  },
  {
   "cell_type": "code",
   "execution_count": 9,
   "id": "4da4cab7",
   "metadata": {},
   "outputs": [],
   "source": [
    "#Develop the regression model\n",
    "model = LinearRegression()"
   ]
  },
  {
   "cell_type": "code",
   "execution_count": 10,
   "id": "7a99b691",
   "metadata": {},
   "outputs": [],
   "source": [
    "#Fit the model\n",
    "model = model.fit(x,y)"
   ]
  },
  {
   "cell_type": "code",
   "execution_count": 11,
   "id": "be3cf04f",
   "metadata": {},
   "outputs": [
    {
     "data": {
      "text/plain": [
       "-67.88435970368458"
      ]
     },
     "execution_count": 11,
     "metadata": {},
     "output_type": "execute_result"
    }
   ],
   "source": [
    "#Model intercept\n",
    "model.intercept_"
   ]
  },
  {
   "cell_type": "code",
   "execution_count": 12,
   "id": "0dd5d574",
   "metadata": {},
   "outputs": [
    {
     "data": {
      "text/plain": [
       "array([ 0.90608862, -0.06418911])"
      ]
     },
     "execution_count": 12,
     "metadata": {},
     "output_type": "execute_result"
    }
   ],
   "source": [
    "#Model coefficients\n",
    "model.coef_"
   ]
  },
  {
   "cell_type": "code",
   "execution_count": 13,
   "id": "414e22ae",
   "metadata": {},
   "outputs": [],
   "source": [
    "#Model accuracy\n",
    "rsq = model.score(x,y)"
   ]
  },
  {
   "cell_type": "code",
   "execution_count": 14,
   "id": "c35ec9aa",
   "metadata": {},
   "outputs": [
    {
     "data": {
      "text/plain": [
       "0.8063763881995271"
      ]
     },
     "execution_count": 14,
     "metadata": {},
     "output_type": "execute_result"
    }
   ],
   "source": [
    "#Check R sq value\n",
    "rsq"
   ]
  },
  {
   "cell_type": "code",
   "execution_count": 15,
   "id": "7a268eb0",
   "metadata": {},
   "outputs": [],
   "source": [
    "#Compute the predicted values\n",
    "predy = model.predict(x)"
   ]
  },
  {
   "cell_type": "code",
   "execution_count": 16,
   "id": "4cec9250",
   "metadata": {},
   "outputs": [],
   "source": [
    "res = y-predy"
   ]
  },
  {
   "cell_type": "markdown",
   "id": "57c2e068",
   "metadata": {},
   "source": [
    "predy is an array. we have to make it a dataframe to join with mydata."
   ]
  },
  {
   "cell_type": "code",
   "execution_count": 17,
   "id": "c16d5643",
   "metadata": {},
   "outputs": [],
   "source": [
    "#Make predy dataframe\n",
    "predy = pd.DataFrame(predy,columns=['Predicted'])\n",
    "#Joining the dataframe\n",
    "result = data.join(predy)"
   ]
  },
  {
   "cell_type": "code",
   "execution_count": 18,
   "id": "04d8d8ac",
   "metadata": {},
   "outputs": [
    {
     "data": {
      "image/png": "[encoded data removed]",
      "text/plain": [
       "<Figure size 432x288 with 1 Axes>"
      ]
     },
     "metadata": {
      "needs_background": "light"
     },
     "output_type": "display_data"
    }
   ],
   "source": [
    "#Normality check of residuals\n",
    "stats.probplot(x=res,plot=plt)\n",
    "plt.grid()\n",
    "plt.show()"
   ]
  },
  {
   "cell_type": "code",
   "execution_count": 19,
   "id": "31962bba",
   "metadata": {},
   "outputs": [
    {
     "name": "stderr",
     "output_type": "stream",
     "text": [
      "/Users/sudiptarakshit/opt/anaconda3/lib/python3.9/site-packages/scipy/stats/stats.py:1541: UserWarning: kurtosistest only valid for n>=20 ... continuing anyway, n=16\n",
      "  warnings.warn(\"kurtosistest only valid for n>=20 ... continuing \"\n"
     ]
    },
    {
     "data": {
      "text/plain": [
       "NormaltestResult(statistic=1.983548761886913, pvalue=0.3709179570178268)"
      ]
     },
     "execution_count": 19,
     "metadata": {},
     "output_type": "execute_result"
    }
   ],
   "source": [
    "#Normality test of the residuals\n",
    "stats.normaltest(a=res)"
   ]
  },
  {
   "cell_type": "markdown",
   "id": "946dd4e8",
   "metadata": {},
   "source": [
    "p value >0.05. Residuals are normally distributed"
   ]
  },
  {
   "cell_type": "code",
   "execution_count": 20,
   "id": "01f22c06",
   "metadata": {},
   "outputs": [
    {
     "data": {
      "image/png": "[encoded data removed]",
      "text/plain": [
       "<Figure size 432x288 with 1 Axes>"
      ]
     },
     "metadata": {
      "needs_background": "light"
     },
     "output_type": "display_data"
    }
   ],
   "source": [
    "#Residuals vs Predicted plot\n",
    "plt.scatter(x=predy,y=res)\n",
    "plt.grid()\n",
    "plt.title('Residual vs Predicted plot')\n",
    "plt.xlabel('predicted')\n",
    "plt.ylabel('Res')\n",
    "plt.show()"
   ]
  },
  {
   "cell_type": "markdown",
   "id": "80283b22",
   "metadata": {},
   "source": [
    "There is no particular trend in Residual vs Predicted plot. So, model adeqacy is okay."
   ]
  },
  {
   "cell_type": "code",
   "execution_count": 21,
   "id": "ee1b8af9",
   "metadata": {},
   "outputs": [
    {
     "data": {
      "text/plain": [
       "102.005"
      ]
     },
     "execution_count": 21,
     "metadata": {},
     "output_type": "execute_result"
    }
   ],
   "source": [
    "#Mean square error\n",
    "MSE = mean_squared_error(y,predy)\n",
    "round(MSE,3)"
   ]
  },
  {
   "cell_type": "code",
   "execution_count": 22,
   "id": "ca9721ff",
   "metadata": {},
   "outputs": [
    {
     "data": {
      "text/plain": [
       "10.1"
      ]
     },
     "execution_count": 22,
     "metadata": {},
     "output_type": "execute_result"
    }
   ],
   "source": [
    "#Root mean square error\n",
    "RMSE = math.sqrt(MSE)\n",
    "round(RMSE,3)"
   ]
  },
  {
   "cell_type": "markdown",
   "id": "73304f9e",
   "metadata": {},
   "source": [
    "**Model Generalizability**\n",
    "\n",
    "**Cross Validation**"
   ]
  },
  {
   "cell_type": "markdown",
   "id": "de2a4191",
   "metadata": {},
   "source": [
    "We remove some data and with the remaining data we build model and check the model accuaracy with the left out data. And we do it multiple times"
   ]
  },
  {
   "cell_type": "markdown",
   "id": "55f9cc0d",
   "metadata": {},
   "source": [
    "**Leave one out cross validation**\n",
    "\n",
    "We leave one data and with the remaining data we build model. Then we test the model on the left out data. Take the average of test error."
   ]
  },
  {
   "cell_type": "code",
   "execution_count": 23,
   "id": "bf111a9b",
   "metadata": {},
   "outputs": [],
   "source": [
    "#Cross-Validation: Model generalizability check\n",
    "score = cross_val_score(estimator= model,X=x,y=y,scoring='neg_mean_squared_error',cv=4)"
   ]
  },
  {
   "cell_type": "code",
   "execution_count": 24,
   "id": "7fc76c23",
   "metadata": {},
   "outputs": [
    {
     "data": {
      "text/plain": [
       "172.416"
      ]
     },
     "execution_count": 24,
     "metadata": {},
     "output_type": "execute_result"
    }
   ],
   "source": [
    "#Cross validation MSE\n",
    "cv_mse = -1*score.mean()\n",
    "round(cv_mse,3)"
   ]
  },
  {
   "cell_type": "markdown",
   "id": "8bd52503",
   "metadata": {},
   "source": [
    "Cross validation residual sum of square\\\n",
    "Cross validation MSE * Number of data points"
   ]
  },
  {
   "cell_type": "code",
   "execution_count": 25,
   "id": "790bbc49",
   "metadata": {},
   "outputs": [],
   "source": [
    "n = data.Time.count()"
   ]
  },
  {
   "cell_type": "code",
   "execution_count": 26,
   "id": "52b96c4a",
   "metadata": {},
   "outputs": [
    {
     "data": {
      "text/plain": [
       "2758.649"
      ]
     },
     "execution_count": 26,
     "metadata": {},
     "output_type": "execute_result"
    }
   ],
   "source": [
    "#Cross validation residual sum of square\n",
    "cv_rss = cv_mse*n\n",
    "round(cv_rss,3)"
   ]
  },
  {
   "cell_type": "code",
   "execution_count": 27,
   "id": "43ad3a0f",
   "metadata": {},
   "outputs": [
    {
     "data": {
      "text/plain": [
       "8429.144"
      ]
     },
     "execution_count": 27,
     "metadata": {},
     "output_type": "execute_result"
    }
   ],
   "source": [
    "#Total sum of square\n",
    "Total_SS = y.var()*(n-1)\n",
    "round(Total_SS,3)"
   ]
  },
  {
   "cell_type": "code",
   "execution_count": 28,
   "id": "60323ec2",
   "metadata": {},
   "outputs": [
    {
     "data": {
      "text/plain": [
       "0.673"
      ]
     },
     "execution_count": 28,
     "metadata": {},
     "output_type": "execute_result"
    }
   ],
   "source": [
    "#Cross validated R square\n",
    "cv_rsq = 1- cv_rss/Total_SS\n",
    "round(cv_rsq,3)"
   ]
  },
  {
   "cell_type": "markdown",
   "id": "9cba2985",
   "metadata": {},
   "source": [
    "So, R<sup>2</sup><sub>CV</sub> has decreased from original model R<sup>2</sup>\\\n",
    "When the detoriration is less, which is why the model is acceptable."
   ]
  },
  {
   "cell_type": "code",
   "execution_count": null,
   "id": "d6aca5b6",
   "metadata": {},
   "outputs": [],
   "source": []
  }
 ],
 "metadata": {
  "kernelspec": {
   "display_name": "Python 3 (ipykernel)",
   "language": "python",
   "name": "python3"
  },
  "language_info": {
   "codemirror_mode": {
    "name": "ipython",
    "version": 3
   },
   "file_extension": ".py",
   "mimetype": "text/x-python",
   "name": "python",
   "nbconvert_exporter": "python",
   "pygments_lexer": "ipython3",
   "version": "3.9.12"
  }
 },
 "nbformat": 4,
 "nbformat_minor": 5
}
