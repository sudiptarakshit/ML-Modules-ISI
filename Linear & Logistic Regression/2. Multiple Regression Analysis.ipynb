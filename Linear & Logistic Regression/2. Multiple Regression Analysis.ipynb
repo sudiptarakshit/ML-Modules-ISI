{
 "cells": [
  {
   "cell_type": "markdown",
   "id": "a9be1a11",
   "metadata": {},
   "source": [
    "# Regression"
   ]
  },
  {
   "cell_type": "markdown",
   "id": "1aae1658",
   "metadata": {},
   "source": [
    "Correlation helps to check if two variables are related. If related, identify the type and degree of relationship.\n",
    "\n",
    "Regression helps to \n",
    "1. Identify the exact form of relationship.\n",
    "2. Model output in terms of input or process variables\n",
    "\n",
    "General form of simple linear regression:\n",
    "\n",
    "y = a + bx + e\n",
    "\n",
    "a = intercept (theoritical value of y when x is 0)\n",
    "b = slope (Avg change in y per unit change of x)\n",
    "\n",
    "Parameter estimation\n",
    "\n",
    "$\\hat{a}$ = $\\bar{y}$ - $\\hat{b}$*$\\bar{x}$\n",
    "\n",
    "$\\hat{b}$ = S<sub>xx</sub> / S<sub>xy</sub>\n",
    "\n",
    "Test for significance: Testing b = 0 or not\n",
    "\n",
    "It tests significance of relation between x and y\n",
    "\n",
    "H0 = b = 0;\n",
    "H1 = b!=0\n"
   ]
  },
  {
   "cell_type": "markdown",
   "id": "a357a532",
   "metadata": {},
   "source": [
    "Test statistic\n",
    "\n",
    "t0 = ($\\hat{b}$ - 0)/ se($\\hat{b}$)\n",
    "\n",
    "If p value is less than 0.05, H0 is rejected & y can be modelled with x"
   ]
  },
  {
   "cell_type": "markdown",
   "id": "4cf9ea5d",
   "metadata": {},
   "source": [
    "Regression: Issues\n",
    "\n",
    "For any set of data,a & b can be calculated & Regression model y = a + bx + e can be built. But all the models may not be useful\n",
    "\n",
    "R<sup>2</sup> <-- coefficient of regression = Amount of Variance explained by regression\n",
    "\n",
    "R<sup>2</sup> = SS<sub>R</sub> / SS<sub>yy</sub> \n",
    "\n",
    "R<sup>2</sup> > 0.6 means the model is reasonably good"
   ]
  },
  {
   "cell_type": "markdown",
   "id": "e4a8333c",
   "metadata": {},
   "source": [
    "**Multiple linear regression**\n",
    "General form:\n",
    "\n",
    "y = a + b1x1 + b2x2 + - - - + bkxk + e\n",
    "\n",
    "Two variable case:\n",
    "\n",
    "y = a + b1x1 + b2x2 + e\n",
    "\n",
    "bi = slope(average amount of change in y for unit change in xi keeping all other x's same)"
   ]
  },
  {
   "cell_type": "markdown",
   "id": "a9f6af87",
   "metadata": {},
   "source": [
    "**Exercise**"
   ]
  },
  {
   "cell_type": "markdown",
   "id": "67eebb88",
   "metadata": {},
   "source": [
    "The effect of temperature and reaction time affects the % yield. The data collected in given in the Mult-Reg_Yield file. Develop a model for % yield in terms of temperature and time?"
   ]
  },
  {
   "cell_type": "code",
   "execution_count": 3,
   "id": "f533bbea",
   "metadata": {},
   "outputs": [],
   "source": [
    "#Import libraries\n",
    "import pandas as pd\n",
    "import numpy as np\n",
    "import matplotlib.pyplot as plt\n",
    "import math \n",
    "from statsmodels.formula.api import ols\n",
    "from statsmodels.stats.anova import anova_lm\n",
    "from pandas.plotting import scatter_matrix\n",
    "from scipy import stats"
   ]
  },
  {
   "cell_type": "code",
   "execution_count": 9,
   "id": "2bd13e1d",
   "metadata": {},
   "outputs": [],
   "source": [
    "#Import data\n",
    "data = pd.read_csv('Mult_Reg_Yield.csv')"
   ]
  },
  {
   "cell_type": "code",
   "execution_count": 10,
   "id": "29f01501",
   "metadata": {},
   "outputs": [
    {
     "name": "stdout",
     "output_type": "stream",
     "text": [
      "<class 'pandas.core.frame.DataFrame'>\n",
      "RangeIndex: 16 entries, 0 to 15\n",
      "Data columns (total 3 columns):\n",
      " #   Column       Non-Null Count  Dtype  \n",
      "---  ------       --------------  -----  \n",
      " 0   Time         16 non-null     int64  \n",
      " 1   Temperature  16 non-null     int64  \n",
      " 2   Yield        16 non-null     float64\n",
      "dtypes: float64(1), int64(2)\n",
      "memory usage: 512.0 bytes\n"
     ]
    }
   ],
   "source": [
    "#Check the data\n",
    "data.info()"
   ]
  },
  {
   "cell_type": "code",
   "execution_count": 11,
   "id": "2e20c7b4",
   "metadata": {},
   "outputs": [
    {
     "data": {
      "text/html": [
       "<div>\n",
       "<style scoped>\n",
       "    .dataframe tbody tr th:only-of-type {\n",
       "        vertical-align: middle;\n",
       "    }\n",
       "\n",
       "    .dataframe tbody tr th {\n",
       "        vertical-align: top;\n",
       "    }\n",
       "\n",
       "    .dataframe thead th {\n",
       "        text-align: right;\n",
       "    }\n",
       "</style>\n",
       "<table border=\"1\" class=\"dataframe\">\n",
       "  <thead>\n",
       "    <tr style=\"text-align: right;\">\n",
       "      <th></th>\n",
       "      <th>Time</th>\n",
       "      <th>Temperature</th>\n",
       "      <th>Yield</th>\n",
       "    </tr>\n",
       "  </thead>\n",
       "  <tbody>\n",
       "    <tr>\n",
       "      <th>0</th>\n",
       "      <td>188</td>\n",
       "      <td>230</td>\n",
       "      <td>84.4</td>\n",
       "    </tr>\n",
       "    <tr>\n",
       "      <th>1</th>\n",
       "      <td>190</td>\n",
       "      <td>220</td>\n",
       "      <td>83.3</td>\n",
       "    </tr>\n",
       "    <tr>\n",
       "      <th>2</th>\n",
       "      <td>186</td>\n",
       "      <td>235</td>\n",
       "      <td>95.4</td>\n",
       "    </tr>\n",
       "    <tr>\n",
       "      <th>3</th>\n",
       "      <td>191</td>\n",
       "      <td>210</td>\n",
       "      <td>98.3</td>\n",
       "    </tr>\n",
       "    <tr>\n",
       "      <th>4</th>\n",
       "      <td>178</td>\n",
       "      <td>210</td>\n",
       "      <td>91.4</td>\n",
       "    </tr>\n",
       "  </tbody>\n",
       "</table>\n",
       "</div>"
      ],
      "text/plain": [
       "   Time  Temperature  Yield\n",
       "0   188          230   84.4\n",
       "1   190          220   83.3\n",
       "2   186          235   95.4\n",
       "3   191          210   98.3\n",
       "4   178          210   91.4"
      ]
     },
     "execution_count": 11,
     "metadata": {},
     "output_type": "execute_result"
    }
   ],
   "source": [
    "#Explore the data\n",
    "data.head()"
   ]
  },
  {
   "cell_type": "code",
   "execution_count": 13,
   "id": "d34af81e",
   "metadata": {},
   "outputs": [
    {
     "data": {
      "text/html": [
       "<div>\n",
       "<style scoped>\n",
       "    .dataframe tbody tr th:only-of-type {\n",
       "        vertical-align: middle;\n",
       "    }\n",
       "\n",
       "    .dataframe tbody tr th {\n",
       "        vertical-align: top;\n",
       "    }\n",
       "\n",
       "    .dataframe thead th {\n",
       "        text-align: right;\n",
       "    }\n",
       "</style>\n",
       "<table border=\"1\" class=\"dataframe\">\n",
       "  <thead>\n",
       "    <tr style=\"text-align: right;\">\n",
       "      <th></th>\n",
       "      <th>Time</th>\n",
       "      <th>Temperature</th>\n",
       "      <th>Yield</th>\n",
       "    </tr>\n",
       "  </thead>\n",
       "  <tbody>\n",
       "    <tr>\n",
       "      <th>count</th>\n",
       "      <td>16.000000</td>\n",
       "      <td>16.000000</td>\n",
       "      <td>16.000000</td>\n",
       "    </tr>\n",
       "    <tr>\n",
       "      <th>mean</th>\n",
       "      <td>163.937500</td>\n",
       "      <td>213.062500</td>\n",
       "      <td>66.981250</td>\n",
       "    </tr>\n",
       "    <tr>\n",
       "      <th>std</th>\n",
       "      <td>23.450569</td>\n",
       "      <td>17.650189</td>\n",
       "      <td>23.705336</td>\n",
       "    </tr>\n",
       "    <tr>\n",
       "      <th>min</th>\n",
       "      <td>130.000000</td>\n",
       "      <td>176.000000</td>\n",
       "      <td>34.500000</td>\n",
       "    </tr>\n",
       "    <tr>\n",
       "      <th>25%</th>\n",
       "      <td>142.000000</td>\n",
       "      <td>203.750000</td>\n",
       "      <td>44.100000</td>\n",
       "    </tr>\n",
       "    <tr>\n",
       "      <th>50%</th>\n",
       "      <td>169.500000</td>\n",
       "      <td>214.000000</td>\n",
       "      <td>69.200000</td>\n",
       "    </tr>\n",
       "    <tr>\n",
       "      <th>75%</th>\n",
       "      <td>186.500000</td>\n",
       "      <td>226.250000</td>\n",
       "      <td>86.150000</td>\n",
       "    </tr>\n",
       "    <tr>\n",
       "      <th>max</th>\n",
       "      <td>194.000000</td>\n",
       "      <td>240.000000</td>\n",
       "      <td>98.300000</td>\n",
       "    </tr>\n",
       "  </tbody>\n",
       "</table>\n",
       "</div>"
      ],
      "text/plain": [
       "             Time  Temperature      Yield\n",
       "count   16.000000    16.000000  16.000000\n",
       "mean   163.937500   213.062500  66.981250\n",
       "std     23.450569    17.650189  23.705336\n",
       "min    130.000000   176.000000  34.500000\n",
       "25%    142.000000   203.750000  44.100000\n",
       "50%    169.500000   214.000000  69.200000\n",
       "75%    186.500000   226.250000  86.150000\n",
       "max    194.000000   240.000000  98.300000"
      ]
     },
     "execution_count": 13,
     "metadata": {},
     "output_type": "execute_result"
    }
   ],
   "source": [
    "#Descriptive summary\n",
    "data.describe()"
   ]
  },
  {
   "cell_type": "code",
   "execution_count": 14,
   "id": "fcc3e0db",
   "metadata": {},
   "outputs": [
    {
     "data": {
      "image/png": "[encoded data removed]",
      "text/plain": [
       "<Figure size 432x288 with 9 Axes>"
      ]
     },
     "metadata": {
      "needs_background": "light"
     },
     "output_type": "display_data"
    }
   ],
   "source": [
    "#Preliminary Analysis: Scatter Matrix\n",
    "scatter_matrix(data)\n",
    "plt.title('Scatter matrix plot')\n",
    "plt.show()"
   ]
  },
  {
   "cell_type": "markdown",
   "id": "b79a4885",
   "metadata": {},
   "source": [
    "It seems that Time has good relationship with Yield."
   ]
  },
  {
   "cell_type": "code",
   "execution_count": 15,
   "id": "72513674",
   "metadata": {},
   "outputs": [
    {
     "data": {
      "text/html": [
       "<div>\n",
       "<style scoped>\n",
       "    .dataframe tbody tr th:only-of-type {\n",
       "        vertical-align: middle;\n",
       "    }\n",
       "\n",
       "    .dataframe tbody tr th {\n",
       "        vertical-align: top;\n",
       "    }\n",
       "\n",
       "    .dataframe thead th {\n",
       "        text-align: right;\n",
       "    }\n",
       "</style>\n",
       "<table border=\"1\" class=\"dataframe\">\n",
       "  <thead>\n",
       "    <tr style=\"text-align: right;\">\n",
       "      <th></th>\n",
       "      <th>Time</th>\n",
       "      <th>Temperature</th>\n",
       "      <th>Yield</th>\n",
       "    </tr>\n",
       "  </thead>\n",
       "  <tbody>\n",
       "    <tr>\n",
       "      <th>Time</th>\n",
       "      <td>1.000</td>\n",
       "      <td>-0.008</td>\n",
       "      <td>0.897</td>\n",
       "    </tr>\n",
       "    <tr>\n",
       "      <th>Temperature</th>\n",
       "      <td>-0.008</td>\n",
       "      <td>1.000</td>\n",
       "      <td>-0.055</td>\n",
       "    </tr>\n",
       "    <tr>\n",
       "      <th>Yield</th>\n",
       "      <td>0.897</td>\n",
       "      <td>-0.055</td>\n",
       "      <td>1.000</td>\n",
       "    </tr>\n",
       "  </tbody>\n",
       "</table>\n",
       "</div>"
      ],
      "text/plain": [
       "              Time  Temperature  Yield\n",
       "Time         1.000       -0.008  0.897\n",
       "Temperature -0.008        1.000 -0.055\n",
       "Yield        0.897       -0.055  1.000"
      ]
     },
     "execution_count": 15,
     "metadata": {},
     "output_type": "execute_result"
    }
   ],
   "source": [
    "#Correlation coefficient\n",
    "round(data.corr(),3)"
   ]
  },
  {
   "cell_type": "code",
   "execution_count": 16,
   "id": "f3553259",
   "metadata": {},
   "outputs": [],
   "source": [
    "#Copy the fields in new variable\n",
    "Time = data.Time\n",
    "Temp = data.Temperature\n",
    "Output = data.Yield"
   ]
  },
  {
   "cell_type": "code",
   "execution_count": 17,
   "id": "012ba483",
   "metadata": {},
   "outputs": [],
   "source": [
    "#Develop the regression model\n",
    "model = ols('Output~Time+Temp',data = data).fit()"
   ]
  },
  {
   "cell_type": "markdown",
   "id": "f7cec20c",
   "metadata": {},
   "source": [
    "To check a model:\n",
    "1. Model significance:\n",
    "p value of F statistics <0.05\n",
    "2. Model accuarcy:\n",
    "R<sub>2</sub> > 0.6\n",
    "3. Model adequacy:\n",
    "residuals should be normally distributed with mean = 0 \n",
    "\n",
    "Residual vs Predicted should not have any pattern\n",
    "\n",
    "4. Model generalizability:"
   ]
  },
  {
   "cell_type": "code",
   "execution_count": 18,
   "id": "bd5cf66c",
   "metadata": {},
   "outputs": [
    {
     "name": "stderr",
     "output_type": "stream",
     "text": [
      "/Users/sudiptarakshit/opt/anaconda3/lib/python3.9/site-packages/scipy/stats/stats.py:1541: UserWarning: kurtosistest only valid for n>=20 ... continuing anyway, n=16\n",
      "  warnings.warn(\"kurtosistest only valid for n>=20 ... continuing \"\n"
     ]
    },
    {
     "data": {
      "text/html": [
       "<table class=\"simpletable\">\n",
       "<caption>OLS Regression Results</caption>\n",
       "<tr>\n",
       "  <th>Dep. Variable:</th>         <td>Output</td>      <th>  R-squared:         </th> <td>   0.806</td>\n",
       "</tr>\n",
       "<tr>\n",
       "  <th>Model:</th>                   <td>OLS</td>       <th>  Adj. R-squared:    </th> <td>   0.777</td>\n",
       "</tr>\n",
       "<tr>\n",
       "  <th>Method:</th>             <td>Least Squares</td>  <th>  F-statistic:       </th> <td>   27.07</td>\n",
       "</tr>\n",
       "<tr>\n",
       "  <th>Date:</th>             <td>Sun, 04 Sep 2022</td> <th>  Prob (F-statistic):</th> <td>2.32e-05</td>\n",
       "</tr>\n",
       "<tr>\n",
       "  <th>Time:</th>                 <td>23:07:15</td>     <th>  Log-Likelihood:    </th> <td> -59.703</td>\n",
       "</tr>\n",
       "<tr>\n",
       "  <th>No. Observations:</th>      <td>    16</td>      <th>  AIC:               </th> <td>   125.4</td>\n",
       "</tr>\n",
       "<tr>\n",
       "  <th>Df Residuals:</th>          <td>    13</td>      <th>  BIC:               </th> <td>   127.7</td>\n",
       "</tr>\n",
       "<tr>\n",
       "  <th>Df Model:</th>              <td>     2</td>      <th>                     </th>     <td> </td>   \n",
       "</tr>\n",
       "<tr>\n",
       "  <th>Covariance Type:</th>      <td>nonrobust</td>    <th>                     </th>     <td> </td>   \n",
       "</tr>\n",
       "</table>\n",
       "<table class=\"simpletable\">\n",
       "<tr>\n",
       "      <td></td>         <th>coef</th>     <th>std err</th>      <th>t</th>      <th>P>|t|</th>  <th>[0.025</th>    <th>0.975]</th>  \n",
       "</tr>\n",
       "<tr>\n",
       "  <th>Intercept</th> <td>  -67.8844</td> <td>   40.587</td> <td>   -1.673</td> <td> 0.118</td> <td> -155.566</td> <td>   19.797</td>\n",
       "</tr>\n",
       "<tr>\n",
       "  <th>Time</th>      <td>    0.9061</td> <td>    0.123</td> <td>    7.344</td> <td> 0.000</td> <td>    0.640</td> <td>    1.173</td>\n",
       "</tr>\n",
       "<tr>\n",
       "  <th>Temp</th>      <td>   -0.0642</td> <td>    0.164</td> <td>   -0.392</td> <td> 0.702</td> <td>   -0.418</td> <td>    0.290</td>\n",
       "</tr>\n",
       "</table>\n",
       "<table class=\"simpletable\">\n",
       "<tr>\n",
       "  <th>Omnibus:</th>       <td> 1.984</td> <th>  Durbin-Watson:     </th> <td>   2.572</td>\n",
       "</tr>\n",
       "<tr>\n",
       "  <th>Prob(Omnibus):</th> <td> 0.371</td> <th>  Jarque-Bera (JB):  </th> <td>   0.970</td>\n",
       "</tr>\n",
       "<tr>\n",
       "  <th>Skew:</th>          <td>-0.078</td> <th>  Prob(JB):          </th> <td>   0.616</td>\n",
       "</tr>\n",
       "<tr>\n",
       "  <th>Kurtosis:</th>      <td> 1.804</td> <th>  Cond. No.          </th> <td>3.91e+03</td>\n",
       "</tr>\n",
       "</table><br/><br/>Notes:<br/>[1] Standard Errors assume that the covariance matrix of the errors is correctly specified.<br/>[2] The condition number is large, 3.91e+03. This might indicate that there are<br/>strong multicollinearity or other numerical problems."
      ],
      "text/plain": [
       "<class 'statsmodels.iolib.summary.Summary'>\n",
       "\"\"\"\n",
       "                            OLS Regression Results                            \n",
       "==============================================================================\n",
       "Dep. Variable:                 Output   R-squared:                       0.806\n",
       "Model:                            OLS   Adj. R-squared:                  0.777\n",
       "Method:                 Least Squares   F-statistic:                     27.07\n",
       "Date:                Sun, 04 Sep 2022   Prob (F-statistic):           2.32e-05\n",
       "Time:                        23:07:15   Log-Likelihood:                -59.703\n",
       "No. Observations:                  16   AIC:                             125.4\n",
       "Df Residuals:                      13   BIC:                             127.7\n",
       "Df Model:                           2                                         \n",
       "Covariance Type:            nonrobust                                         \n",
       "==============================================================================\n",
       "                 coef    std err          t      P>|t|      [0.025      0.975]\n",
       "------------------------------------------------------------------------------\n",
       "Intercept    -67.8844     40.587     -1.673      0.118    -155.566      19.797\n",
       "Time           0.9061      0.123      7.344      0.000       0.640       1.173\n",
       "Temp          -0.0642      0.164     -0.392      0.702      -0.418       0.290\n",
       "==============================================================================\n",
       "Omnibus:                        1.984   Durbin-Watson:                   2.572\n",
       "Prob(Omnibus):                  0.371   Jarque-Bera (JB):                0.970\n",
       "Skew:                          -0.078   Prob(JB):                        0.616\n",
       "Kurtosis:                       1.804   Cond. No.                     3.91e+03\n",
       "==============================================================================\n",
       "\n",
       "Notes:\n",
       "[1] Standard Errors assume that the covariance matrix of the errors is correctly specified.\n",
       "[2] The condition number is large, 3.91e+03. This might indicate that there are\n",
       "strong multicollinearity or other numerical problems.\n",
       "\"\"\""
      ]
     },
     "execution_count": 18,
     "metadata": {},
     "output_type": "execute_result"
    }
   ],
   "source": [
    "#Check the model\n",
    "model.summary()"
   ]
  },
  {
   "cell_type": "markdown",
   "id": "a4f00c35",
   "metadata": {},
   "source": [
    "**Check the model: Significance**\n",
    "\n",
    "P value of F statistics < 0.05%"
   ]
  },
  {
   "cell_type": "markdown",
   "id": "822141b1",
   "metadata": {},
   "source": [
    "**Check the model: Accuracy**\n",
    "\n",
    "R<sup>2</sup> > 0.6 : Model good\n",
    "\n",
    "Adj R<sup>2</sup> > 0.6 : Model good\n",
    "\n",
    "Adjusted R<sup>2</sup> is correction done on R<sup>2</sup>\n"
   ]
  },
  {
   "cell_type": "markdown",
   "id": "aced286d",
   "metadata": {},
   "source": [
    "Model : Yield = -67.8844 + 0.9061*Time -0.0642* Temp"
   ]
  },
  {
   "cell_type": "markdown",
   "id": "116f6226",
   "metadata": {},
   "source": [
    "We find that for Temp, p value >0.05\n",
    "\n",
    "So, we can remove temp variable from the regression equation."
   ]
  },
  {
   "cell_type": "code",
   "execution_count": 19,
   "id": "fdc50a48",
   "metadata": {},
   "outputs": [],
   "source": [
    "#Predicted values\n",
    "predy = model.predict()"
   ]
  },
  {
   "cell_type": "code",
   "execution_count": 20,
   "id": "be523e9b",
   "metadata": {},
   "outputs": [
    {
     "data": {
      "text/plain": [
       "array([87.69680424, 90.15087261, 85.56368144, 91.69885237, 79.91970034,\n",
       "       66.85676605, 77.84332562, 59.47223785, 95.57252226, 51.77420512,\n",
       "       47.5647076 , 42.65657086, 78.47777573, 40.37274675, 38.36800217,\n",
       "       37.71122898])"
      ]
     },
     "execution_count": 20,
     "metadata": {},
     "output_type": "execute_result"
    }
   ],
   "source": [
    "#Check the predicted values\n",
    "predy"
   ]
  },
  {
   "cell_type": "code",
   "execution_count": 21,
   "id": "3486a873",
   "metadata": {},
   "outputs": [],
   "source": [
    "#Convert predicted values to the dataframe\n",
    "predy = pd.DataFrame(predy,columns =['Predicted'])"
   ]
  },
  {
   "cell_type": "code",
   "execution_count": 22,
   "id": "e4efd652",
   "metadata": {},
   "outputs": [],
   "source": [
    "#Join the predicted value with the dataset\n",
    "result = data.join(predy)"
   ]
  },
  {
   "cell_type": "code",
   "execution_count": 23,
   "id": "33a2087b",
   "metadata": {},
   "outputs": [
    {
     "data": {
      "text/html": [
       "<div>\n",
       "<style scoped>\n",
       "    .dataframe tbody tr th:only-of-type {\n",
       "        vertical-align: middle;\n",
       "    }\n",
       "\n",
       "    .dataframe tbody tr th {\n",
       "        vertical-align: top;\n",
       "    }\n",
       "\n",
       "    .dataframe thead th {\n",
       "        text-align: right;\n",
       "    }\n",
       "</style>\n",
       "<table border=\"1\" class=\"dataframe\">\n",
       "  <thead>\n",
       "    <tr style=\"text-align: right;\">\n",
       "      <th></th>\n",
       "      <th>Time</th>\n",
       "      <th>Temperature</th>\n",
       "      <th>Yield</th>\n",
       "      <th>Predicted</th>\n",
       "    </tr>\n",
       "  </thead>\n",
       "  <tbody>\n",
       "    <tr>\n",
       "      <th>0</th>\n",
       "      <td>188</td>\n",
       "      <td>230</td>\n",
       "      <td>84.4</td>\n",
       "      <td>87.696804</td>\n",
       "    </tr>\n",
       "    <tr>\n",
       "      <th>1</th>\n",
       "      <td>190</td>\n",
       "      <td>220</td>\n",
       "      <td>83.3</td>\n",
       "      <td>90.150873</td>\n",
       "    </tr>\n",
       "    <tr>\n",
       "      <th>2</th>\n",
       "      <td>186</td>\n",
       "      <td>235</td>\n",
       "      <td>95.4</td>\n",
       "      <td>85.563681</td>\n",
       "    </tr>\n",
       "    <tr>\n",
       "      <th>3</th>\n",
       "      <td>191</td>\n",
       "      <td>210</td>\n",
       "      <td>98.3</td>\n",
       "      <td>91.698852</td>\n",
       "    </tr>\n",
       "    <tr>\n",
       "      <th>4</th>\n",
       "      <td>178</td>\n",
       "      <td>210</td>\n",
       "      <td>91.4</td>\n",
       "      <td>79.919700</td>\n",
       "    </tr>\n",
       "  </tbody>\n",
       "</table>\n",
       "</div>"
      ],
      "text/plain": [
       "   Time  Temperature  Yield  Predicted\n",
       "0   188          230   84.4  87.696804\n",
       "1   190          220   83.3  90.150873\n",
       "2   186          235   95.4  85.563681\n",
       "3   191          210   98.3  91.698852\n",
       "4   178          210   91.4  79.919700"
      ]
     },
     "execution_count": 23,
     "metadata": {},
     "output_type": "execute_result"
    }
   ],
   "source": [
    "#Check my result\n",
    "result.head()"
   ]
  },
  {
   "cell_type": "code",
   "execution_count": 24,
   "id": "29816e39",
   "metadata": {},
   "outputs": [],
   "source": [
    "#Calculate residuals: actual - predicted\n",
    "res = model.resid"
   ]
  },
  {
   "cell_type": "code",
   "execution_count": 25,
   "id": "dbf185c1",
   "metadata": {},
   "outputs": [],
   "source": [
    "#Convert rediduals to dataframe\n",
    "res = pd.DataFrame(res,columns=['Residual'])"
   ]
  },
  {
   "cell_type": "code",
   "execution_count": 26,
   "id": "937639b8",
   "metadata": {},
   "outputs": [],
   "source": [
    "#Join the residuals with the dataset\n",
    "result = result.join(res)"
   ]
  },
  {
   "cell_type": "code",
   "execution_count": 27,
   "id": "bc6d1bea",
   "metadata": {},
   "outputs": [
    {
     "data": {
      "text/html": [
       "<div>\n",
       "<style scoped>\n",
       "    .dataframe tbody tr th:only-of-type {\n",
       "        vertical-align: middle;\n",
       "    }\n",
       "\n",
       "    .dataframe tbody tr th {\n",
       "        vertical-align: top;\n",
       "    }\n",
       "\n",
       "    .dataframe thead th {\n",
       "        text-align: right;\n",
       "    }\n",
       "</style>\n",
       "<table border=\"1\" class=\"dataframe\">\n",
       "  <thead>\n",
       "    <tr style=\"text-align: right;\">\n",
       "      <th></th>\n",
       "      <th>Time</th>\n",
       "      <th>Temperature</th>\n",
       "      <th>Yield</th>\n",
       "      <th>Predicted</th>\n",
       "      <th>Residual</th>\n",
       "    </tr>\n",
       "  </thead>\n",
       "  <tbody>\n",
       "    <tr>\n",
       "      <th>0</th>\n",
       "      <td>188</td>\n",
       "      <td>230</td>\n",
       "      <td>84.4</td>\n",
       "      <td>87.696804</td>\n",
       "      <td>-3.296804</td>\n",
       "    </tr>\n",
       "    <tr>\n",
       "      <th>1</th>\n",
       "      <td>190</td>\n",
       "      <td>220</td>\n",
       "      <td>83.3</td>\n",
       "      <td>90.150873</td>\n",
       "      <td>-6.850873</td>\n",
       "    </tr>\n",
       "    <tr>\n",
       "      <th>2</th>\n",
       "      <td>186</td>\n",
       "      <td>235</td>\n",
       "      <td>95.4</td>\n",
       "      <td>85.563681</td>\n",
       "      <td>9.836319</td>\n",
       "    </tr>\n",
       "    <tr>\n",
       "      <th>3</th>\n",
       "      <td>191</td>\n",
       "      <td>210</td>\n",
       "      <td>98.3</td>\n",
       "      <td>91.698852</td>\n",
       "      <td>6.601148</td>\n",
       "    </tr>\n",
       "    <tr>\n",
       "      <th>4</th>\n",
       "      <td>178</td>\n",
       "      <td>210</td>\n",
       "      <td>91.4</td>\n",
       "      <td>79.919700</td>\n",
       "      <td>11.480300</td>\n",
       "    </tr>\n",
       "  </tbody>\n",
       "</table>\n",
       "</div>"
      ],
      "text/plain": [
       "   Time  Temperature  Yield  Predicted   Residual\n",
       "0   188          230   84.4  87.696804  -3.296804\n",
       "1   190          220   83.3  90.150873  -6.850873\n",
       "2   186          235   95.4  85.563681   9.836319\n",
       "3   191          210   98.3  91.698852   6.601148\n",
       "4   178          210   91.4  79.919700  11.480300"
      ]
     },
     "execution_count": 27,
     "metadata": {},
     "output_type": "execute_result"
    }
   ],
   "source": [
    "#Check result\n",
    "result.head()"
   ]
  },
  {
   "cell_type": "code",
   "execution_count": 28,
   "id": "5714918a",
   "metadata": {},
   "outputs": [],
   "source": [
    "#We convert the res datatype from dataframe to array\n",
    "res = res.Residual"
   ]
  },
  {
   "cell_type": "code",
   "execution_count": 29,
   "id": "f809cb26",
   "metadata": {},
   "outputs": [
    {
     "data": {
      "image/png": "[encoded data removed]",
      "text/plain": [
       "<Figure size 432x288 with 1 Axes>"
      ]
     },
     "metadata": {
      "needs_background": "light"
     },
     "output_type": "display_data"
    }
   ],
   "source": [
    "#We do normality test of residuals\n",
    "stats.probplot(res,plot=plt)\n",
    "plt.grid()"
   ]
  },
  {
   "cell_type": "code",
   "execution_count": 30,
   "id": "16a6c62a",
   "metadata": {},
   "outputs": [
    {
     "name": "stderr",
     "output_type": "stream",
     "text": [
      "/Users/sudiptarakshit/opt/anaconda3/lib/python3.9/site-packages/scipy/stats/stats.py:1541: UserWarning: kurtosistest only valid for n>=20 ... continuing anyway, n=16\n",
      "  warnings.warn(\"kurtosistest only valid for n>=20 ... continuing \"\n"
     ]
    },
    {
     "data": {
      "text/plain": [
       "NormaltestResult(statistic=1.9835487618869185, pvalue=0.3709179570178258)"
      ]
     },
     "execution_count": 30,
     "metadata": {},
     "output_type": "execute_result"
    }
   ],
   "source": [
    "#Normality test p value\n",
    "stats.normaltest(a=res)"
   ]
  },
  {
   "cell_type": "markdown",
   "id": "01ef6f9a",
   "metadata": {},
   "source": [
    "We find the pvalue=0.3709179570178255, so res is normally distributed."
   ]
  },
  {
   "cell_type": "code",
   "execution_count": 31,
   "id": "894a425b",
   "metadata": {},
   "outputs": [
    {
     "data": {
      "image/png": "[encoded data removed]",
      "text/plain": [
       "<Figure size 432x288 with 1 Axes>"
      ]
     },
     "metadata": {
      "needs_background": "light"
     },
     "output_type": "display_data"
    }
   ],
   "source": [
    "#Residual vs Explanatory variable plot\n",
    "plt.scatter(Time,res)\n",
    "plt.title('Residual vs Time')\n",
    "plt.xlabel('Time')\n",
    "plt.ylabel('Residual')\n",
    "plt.grid()\n",
    "plt.show()"
   ]
  },
  {
   "cell_type": "markdown",
   "id": "052ce215",
   "metadata": {},
   "source": [
    "Suppose, there are many explanatory variables. In that we have draw many Residual vs Explanatory variable plots. Instead we can draw Residual vs Predicted value plot since, predited value is a linear function of the explanatory variables."
   ]
  },
  {
   "cell_type": "code",
   "execution_count": 32,
   "id": "9ad4b18b",
   "metadata": {},
   "outputs": [],
   "source": [
    "#Compute the predicted values\n",
    "predy = model.predict()"
   ]
  },
  {
   "cell_type": "code",
   "execution_count": 33,
   "id": "a17b6caa",
   "metadata": {},
   "outputs": [
    {
     "data": {
      "image/png": "[encoded data removed]",
      "text/plain": [
       "<Figure size 432x288 with 1 Axes>"
      ]
     },
     "metadata": {
      "needs_background": "light"
     },
     "output_type": "display_data"
    }
   ],
   "source": [
    "#Residual vs Predicted plot\n",
    "plt.scatter(x=predy,y=res)\n",
    "plt.title('Residual vs Predicted')\n",
    "plt.xlabel('Predicted')\n",
    "plt.ylabel('Residual')\n",
    "plt.grid()\n",
    "plt.show()"
   ]
  },
  {
   "cell_type": "code",
   "execution_count": 34,
   "id": "f987bb42",
   "metadata": {},
   "outputs": [
    {
     "data": {
      "text/plain": [
       "102.005"
      ]
     },
     "execution_count": 34,
     "metadata": {},
     "output_type": "execute_result"
    }
   ],
   "source": [
    "#Mean Square Error calculation (MSE)\n",
    "res_sq = res**2\n",
    "MSE = res_sq.mean()\n",
    "round(MSE,3)"
   ]
  },
  {
   "cell_type": "code",
   "execution_count": 36,
   "id": "69a62766",
   "metadata": {},
   "outputs": [
    {
     "data": {
      "text/plain": [
       "10.1"
      ]
     },
     "execution_count": 36,
     "metadata": {},
     "output_type": "execute_result"
    }
   ],
   "source": [
    "#Root Mean Square Error calculation (RMSE)\n",
    "RMSE = math.sqrt(MSE)\n",
    "round(RMSE,3)"
   ]
  },
  {
   "cell_type": "code",
   "execution_count": 37,
   "id": "91542f91",
   "metadata": {},
   "outputs": [
    {
     "data": {
      "text/plain": [
       "1632.081"
      ]
     },
     "execution_count": 37,
     "metadata": {},
     "output_type": "execute_result"
    }
   ],
   "source": [
    "#Residual Sum of Square\n",
    "res_ss = res_sq.sum()\n",
    "round(res_ss,3)"
   ]
  },
  {
   "cell_type": "markdown",
   "id": "97937844",
   "metadata": {},
   "source": [
    "Residual Sum of Square explains how much the model is not good. Parameter to show how much variability the model can not explain."
   ]
  },
  {
   "cell_type": "code",
   "execution_count": 38,
   "id": "c69be7ff",
   "metadata": {},
   "outputs": [
    {
     "data": {
      "text/plain": [
       "8429.144"
      ]
     },
     "execution_count": 38,
     "metadata": {},
     "output_type": "execute_result"
    }
   ],
   "source": [
    "#Total Sum of Square\n",
    "Total_ss = Output.var()*(16-1)\n",
    "#16 is total number of observations\n",
    "round(Total_ss,3)"
   ]
  },
  {
   "cell_type": "code",
   "execution_count": 39,
   "id": "1bfdc510",
   "metadata": {},
   "outputs": [
    {
     "name": "stdout",
     "output_type": "stream",
     "text": [
      "0.1936236118004731\n",
      "0.806376388199527\n"
     ]
    }
   ],
   "source": [
    "#Information the model can not explain \n",
    "print(res_ss/Total_ss)\n",
    "rsq = 1-res_ss/Total_ss\n",
    "print(rsq)"
   ]
  },
  {
   "cell_type": "markdown",
   "id": "a515006f",
   "metadata": {},
   "source": [
    "The model can not explain 19% information.\n",
    "\n",
    "The model can explain 80.6% of total variability in data, which is R<sup>2"
   ]
  },
  {
   "cell_type": "markdown",
   "id": "88652ce8",
   "metadata": {},
   "source": [
    "**R2 adjusted calculation**\n",
    "\n",
    "Adj R<sup>2</sup> = 1- (1 - R<sup>2</sup>)*(n-1)/ (n-p-1)\n",
    "\n",
    "n = no of observations\n",
    "\n",
    "p = no of expalnatory variables in the model\n"
   ]
  },
  {
   "cell_type": "code",
   "execution_count": 40,
   "id": "5d9ce900",
   "metadata": {},
   "outputs": [
    {
     "name": "stdout",
     "output_type": "stream",
     "text": [
      "0.7765881402302234\n"
     ]
    }
   ],
   "source": [
    "#Adjusted R2 calculation\n",
    "adj_r_sq = 1 - (1-rsq)*(16-1)/(16-2-1)\n",
    "print(adj_r_sq)"
   ]
  },
  {
   "cell_type": "markdown",
   "id": "bd55c1e3",
   "metadata": {},
   "source": [
    "|Source | SS |DF|MS|F|P|\n",
    "| ----------- | ----------- |----|-----|-----|-----|\n",
    "| Regression | 6797.063|2|3398.5315|27.07029216|2.31861E-05|\n",
    "| Residual | 1632.081 |13|125.5446923|\n",
    "|Total|8429.144 |15|"
   ]
  },
  {
   "cell_type": "markdown",
   "id": "02825d36",
   "metadata": {},
   "source": [
    "For a good model, MS regression should be very high. i.e, what the model can explain should be higher than what the model can't explain.\n",
    "\n",
    "F statistic should be greater than 1\n",
    "\n",
    "DF of Regression = Number of explanatory variables.\n",
    "\n",
    "DF of total = n-1\n"
   ]
  }
 ],
 "metadata": {
  "kernelspec": {
   "display_name": "Python 3 (ipykernel)",
   "language": "python",
   "name": "python3"
  },
  "language_info": {
   "codemirror_mode": {
    "name": "ipython",
    "version": 3
   },
   "file_extension": ".py",
   "mimetype": "text/x-python",
   "name": "python",
   "nbconvert_exporter": "python",
   "pygments_lexer": "ipython3",
   "version": "3.9.12"
  }
 },
 "nbformat": 4,
 "nbformat_minor": 5
}
